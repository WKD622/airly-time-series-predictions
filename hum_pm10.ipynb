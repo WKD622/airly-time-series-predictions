{
 "cells": [
  {
   "cell_type": "markdown",
   "metadata": {},
   "source": [
    "# Szeregi czasowe\n",
    "\n",
    "Antoni Pięta\n",
    "\n",
    "Jaub Ziarko"
   ]
  },
  {
   "cell_type": "code",
   "execution_count": 1,
   "metadata": {},
   "outputs": [],
   "source": [
    "from pandas import read_csv\n",
    "import pandas as pd\n",
    "from matplotlib import pyplot as plt\n",
    "from sklearn.preprocessing import MinMaxScaler\n",
    "import statsmodels.api as sm\n",
    "from statsmodels.tsa.stattools import adfuller\n",
    "from pmdarima.arima import auto_arima\n",
    "from statsmodels.tsa.statespace.sarimax import SARIMAX"
   ]
  },
  {
   "cell_type": "markdown",
   "metadata": {},
   "source": [
    "### Ładowanie datasetu"
   ]
  },
  {
   "cell_type": "code",
   "execution_count": 2,
   "metadata": {},
   "outputs": [],
   "source": [
    "data_filename = 'result.csv'\n",
    "dataset = read_csv(data_filename)"
   ]
  },
  {
   "cell_type": "markdown",
   "metadata": {},
   "source": [
    "### Klumny i przykładowane dane z datasetu"
   ]
  },
  {
   "cell_type": "code",
   "execution_count": 3,
   "metadata": {},
   "outputs": [
    {
     "data": {
      "text/html": [
       "<div>\n",
       "<style scoped>\n",
       "    .dataframe tbody tr th:only-of-type {\n",
       "        vertical-align: middle;\n",
       "    }\n",
       "\n",
       "    .dataframe tbody tr th {\n",
       "        vertical-align: top;\n",
       "    }\n",
       "\n",
       "    .dataframe thead th {\n",
       "        text-align: right;\n",
       "    }\n",
       "</style>\n",
       "<table border=\"1\" class=\"dataframe\">\n",
       "  <thead>\n",
       "    <tr style=\"text-align: right;\">\n",
       "      <th></th>\n",
       "      <th>datetime_from</th>\n",
       "      <th>avg(pm10)</th>\n",
       "      <th>avg(humidity)</th>\n",
       "    </tr>\n",
       "  </thead>\n",
       "  <tbody>\n",
       "    <tr>\n",
       "      <th>0</th>\n",
       "      <td>2020-04-20 00:00:00</td>\n",
       "      <td>26.2025</td>\n",
       "      <td>68.8590</td>\n",
       "    </tr>\n",
       "    <tr>\n",
       "      <th>1</th>\n",
       "      <td>2020-04-20 01:00:00</td>\n",
       "      <td>26.4570</td>\n",
       "      <td>73.9560</td>\n",
       "    </tr>\n",
       "    <tr>\n",
       "      <th>2</th>\n",
       "      <td>2020-04-20 02:00:00</td>\n",
       "      <td>26.8135</td>\n",
       "      <td>77.6065</td>\n",
       "    </tr>\n",
       "    <tr>\n",
       "      <th>3</th>\n",
       "      <td>2020-04-20 03:00:00</td>\n",
       "      <td>25.6330</td>\n",
       "      <td>79.6785</td>\n",
       "    </tr>\n",
       "    <tr>\n",
       "      <th>4</th>\n",
       "      <td>2020-04-20 04:00:00</td>\n",
       "      <td>28.3240</td>\n",
       "      <td>79.9945</td>\n",
       "    </tr>\n",
       "    <tr>\n",
       "      <th>5</th>\n",
       "      <td>2020-04-20 05:00:00</td>\n",
       "      <td>26.5280</td>\n",
       "      <td>77.7310</td>\n",
       "    </tr>\n",
       "    <tr>\n",
       "      <th>6</th>\n",
       "      <td>2020-04-20 06:00:00</td>\n",
       "      <td>23.4925</td>\n",
       "      <td>72.0375</td>\n",
       "    </tr>\n",
       "  </tbody>\n",
       "</table>\n",
       "</div>"
      ],
      "text/plain": [
       "         datetime_from  avg(pm10)  avg(humidity)\n",
       "0  2020-04-20 00:00:00    26.2025        68.8590\n",
       "1  2020-04-20 01:00:00    26.4570        73.9560\n",
       "2  2020-04-20 02:00:00    26.8135        77.6065\n",
       "3  2020-04-20 03:00:00    25.6330        79.6785\n",
       "4  2020-04-20 04:00:00    28.3240        79.9945\n",
       "5  2020-04-20 05:00:00    26.5280        77.7310\n",
       "6  2020-04-20 06:00:00    23.4925        72.0375"
      ]
     },
     "execution_count": 3,
     "metadata": {},
     "output_type": "execute_result"
    }
   ],
   "source": [
    "dataset.head(7)"
   ]
  },
  {
   "cell_type": "markdown",
   "metadata": {},
   "source": [
    "### Informacje o datasecie"
   ]
  },
  {
   "cell_type": "code",
   "execution_count": 4,
   "metadata": {},
   "outputs": [
    {
     "name": "stdout",
     "output_type": "stream",
     "text": [
      "<class 'pandas.core.frame.DataFrame'>\n",
      "RangeIndex: 294 entries, 0 to 293\n",
      "Data columns (total 3 columns):\n",
      "datetime_from    294 non-null object\n",
      "avg(pm10)        294 non-null float64\n",
      "avg(humidity)    294 non-null float64\n",
      "dtypes: float64(2), object(1)\n",
      "memory usage: 7.0+ KB\n"
     ]
    }
   ],
   "source": [
    "dataset.info()"
   ]
  },
  {
   "cell_type": "markdown",
   "metadata": {},
   "source": [
    "### Dodajemy kolumnę, która ma być używana do przewidywana - `actual`"
   ]
  },
  {
   "cell_type": "code",
   "execution_count": 5,
   "metadata": {},
   "outputs": [],
   "source": [
    "steps = -1\n",
    "dataset_for_prediction = dataset.copy()\n",
    "dataset_for_prediction['actual'] = dataset_for_prediction['avg(pm10)'].shift(steps)"
   ]
  },
  {
   "cell_type": "code",
   "execution_count": 6,
   "metadata": {},
   "outputs": [
    {
     "data": {
      "text/html": [
       "<div>\n",
       "<style scoped>\n",
       "    .dataframe tbody tr th:only-of-type {\n",
       "        vertical-align: middle;\n",
       "    }\n",
       "\n",
       "    .dataframe tbody tr th {\n",
       "        vertical-align: top;\n",
       "    }\n",
       "\n",
       "    .dataframe thead th {\n",
       "        text-align: right;\n",
       "    }\n",
       "</style>\n",
       "<table border=\"1\" class=\"dataframe\">\n",
       "  <thead>\n",
       "    <tr style=\"text-align: right;\">\n",
       "      <th></th>\n",
       "      <th>datetime_from</th>\n",
       "      <th>avg(pm10)</th>\n",
       "      <th>avg(humidity)</th>\n",
       "      <th>actual</th>\n",
       "    </tr>\n",
       "  </thead>\n",
       "  <tbody>\n",
       "    <tr>\n",
       "      <th>279</th>\n",
       "      <td>2020-05-01 15:00:00</td>\n",
       "      <td>13.741304</td>\n",
       "      <td>37.459130</td>\n",
       "      <td>17.801739</td>\n",
       "    </tr>\n",
       "    <tr>\n",
       "      <th>280</th>\n",
       "      <td>2020-05-01 16:00:00</td>\n",
       "      <td>17.801739</td>\n",
       "      <td>45.116087</td>\n",
       "      <td>24.442609</td>\n",
       "    </tr>\n",
       "    <tr>\n",
       "      <th>281</th>\n",
       "      <td>2020-05-01 17:00:00</td>\n",
       "      <td>24.442609</td>\n",
       "      <td>48.803043</td>\n",
       "      <td>31.771304</td>\n",
       "    </tr>\n",
       "    <tr>\n",
       "      <th>282</th>\n",
       "      <td>2020-05-01 18:00:00</td>\n",
       "      <td>31.771304</td>\n",
       "      <td>57.290870</td>\n",
       "      <td>39.994348</td>\n",
       "    </tr>\n",
       "    <tr>\n",
       "      <th>283</th>\n",
       "      <td>2020-05-01 19:00:00</td>\n",
       "      <td>39.994348</td>\n",
       "      <td>62.018696</td>\n",
       "      <td>45.491739</td>\n",
       "    </tr>\n",
       "    <tr>\n",
       "      <th>284</th>\n",
       "      <td>2020-05-01 20:00:00</td>\n",
       "      <td>45.491739</td>\n",
       "      <td>70.036522</td>\n",
       "      <td>46.817826</td>\n",
       "    </tr>\n",
       "    <tr>\n",
       "      <th>285</th>\n",
       "      <td>2020-05-01 21:00:00</td>\n",
       "      <td>46.817826</td>\n",
       "      <td>77.330000</td>\n",
       "      <td>48.958261</td>\n",
       "    </tr>\n",
       "    <tr>\n",
       "      <th>286</th>\n",
       "      <td>2020-05-01 22:00:00</td>\n",
       "      <td>48.958261</td>\n",
       "      <td>78.827826</td>\n",
       "      <td>50.524783</td>\n",
       "    </tr>\n",
       "    <tr>\n",
       "      <th>287</th>\n",
       "      <td>2020-05-01 23:00:00</td>\n",
       "      <td>50.524783</td>\n",
       "      <td>78.843478</td>\n",
       "      <td>49.862609</td>\n",
       "    </tr>\n",
       "    <tr>\n",
       "      <th>288</th>\n",
       "      <td>2020-05-02 00:00:00</td>\n",
       "      <td>49.862609</td>\n",
       "      <td>76.211739</td>\n",
       "      <td>48.520870</td>\n",
       "    </tr>\n",
       "    <tr>\n",
       "      <th>289</th>\n",
       "      <td>2020-05-02 01:00:00</td>\n",
       "      <td>48.520870</td>\n",
       "      <td>73.402174</td>\n",
       "      <td>44.915217</td>\n",
       "    </tr>\n",
       "    <tr>\n",
       "      <th>290</th>\n",
       "      <td>2020-05-02 02:00:00</td>\n",
       "      <td>44.915217</td>\n",
       "      <td>68.183478</td>\n",
       "      <td>43.017391</td>\n",
       "    </tr>\n",
       "    <tr>\n",
       "      <th>291</th>\n",
       "      <td>2020-05-02 03:00:00</td>\n",
       "      <td>43.017391</td>\n",
       "      <td>64.420870</td>\n",
       "      <td>37.230000</td>\n",
       "    </tr>\n",
       "    <tr>\n",
       "      <th>292</th>\n",
       "      <td>2020-05-02 04:00:00</td>\n",
       "      <td>37.230000</td>\n",
       "      <td>62.488261</td>\n",
       "      <td>31.349130</td>\n",
       "    </tr>\n",
       "    <tr>\n",
       "      <th>293</th>\n",
       "      <td>2020-05-02 05:00:00</td>\n",
       "      <td>31.349130</td>\n",
       "      <td>60.939565</td>\n",
       "      <td>NaN</td>\n",
       "    </tr>\n",
       "  </tbody>\n",
       "</table>\n",
       "</div>"
      ],
      "text/plain": [
       "           datetime_from  avg(pm10)  avg(humidity)     actual\n",
       "279  2020-05-01 15:00:00  13.741304      37.459130  17.801739\n",
       "280  2020-05-01 16:00:00  17.801739      45.116087  24.442609\n",
       "281  2020-05-01 17:00:00  24.442609      48.803043  31.771304\n",
       "282  2020-05-01 18:00:00  31.771304      57.290870  39.994348\n",
       "283  2020-05-01 19:00:00  39.994348      62.018696  45.491739\n",
       "284  2020-05-01 20:00:00  45.491739      70.036522  46.817826\n",
       "285  2020-05-01 21:00:00  46.817826      77.330000  48.958261\n",
       "286  2020-05-01 22:00:00  48.958261      78.827826  50.524783\n",
       "287  2020-05-01 23:00:00  50.524783      78.843478  49.862609\n",
       "288  2020-05-02 00:00:00  49.862609      76.211739  48.520870\n",
       "289  2020-05-02 01:00:00  48.520870      73.402174  44.915217\n",
       "290  2020-05-02 02:00:00  44.915217      68.183478  43.017391\n",
       "291  2020-05-02 03:00:00  43.017391      64.420870  37.230000\n",
       "292  2020-05-02 04:00:00  37.230000      62.488261  31.349130\n",
       "293  2020-05-02 05:00:00  31.349130      60.939565        NaN"
      ]
     },
     "execution_count": 6,
     "metadata": {},
     "output_type": "execute_result"
    }
   ],
   "source": [
    "dataset_for_prediction.tail(15)"
   ]
  },
  {
   "cell_type": "markdown",
   "metadata": {},
   "source": [
    "### Usuwamy wiersze z wartościami NaN"
   ]
  },
  {
   "cell_type": "code",
   "execution_count": 7,
   "metadata": {},
   "outputs": [
    {
     "data": {
      "text/html": [
       "<div>\n",
       "<style scoped>\n",
       "    .dataframe tbody tr th:only-of-type {\n",
       "        vertical-align: middle;\n",
       "    }\n",
       "\n",
       "    .dataframe tbody tr th {\n",
       "        vertical-align: top;\n",
       "    }\n",
       "\n",
       "    .dataframe thead th {\n",
       "        text-align: right;\n",
       "    }\n",
       "</style>\n",
       "<table border=\"1\" class=\"dataframe\">\n",
       "  <thead>\n",
       "    <tr style=\"text-align: right;\">\n",
       "      <th></th>\n",
       "      <th>datetime_from</th>\n",
       "      <th>avg(pm10)</th>\n",
       "      <th>avg(humidity)</th>\n",
       "      <th>actual</th>\n",
       "    </tr>\n",
       "  </thead>\n",
       "  <tbody>\n",
       "    <tr>\n",
       "      <th>278</th>\n",
       "      <td>2020-05-01 14:00:00</td>\n",
       "      <td>10.544348</td>\n",
       "      <td>37.246522</td>\n",
       "      <td>13.741304</td>\n",
       "    </tr>\n",
       "    <tr>\n",
       "      <th>279</th>\n",
       "      <td>2020-05-01 15:00:00</td>\n",
       "      <td>13.741304</td>\n",
       "      <td>37.459130</td>\n",
       "      <td>17.801739</td>\n",
       "    </tr>\n",
       "    <tr>\n",
       "      <th>280</th>\n",
       "      <td>2020-05-01 16:00:00</td>\n",
       "      <td>17.801739</td>\n",
       "      <td>45.116087</td>\n",
       "      <td>24.442609</td>\n",
       "    </tr>\n",
       "    <tr>\n",
       "      <th>281</th>\n",
       "      <td>2020-05-01 17:00:00</td>\n",
       "      <td>24.442609</td>\n",
       "      <td>48.803043</td>\n",
       "      <td>31.771304</td>\n",
       "    </tr>\n",
       "    <tr>\n",
       "      <th>282</th>\n",
       "      <td>2020-05-01 18:00:00</td>\n",
       "      <td>31.771304</td>\n",
       "      <td>57.290870</td>\n",
       "      <td>39.994348</td>\n",
       "    </tr>\n",
       "    <tr>\n",
       "      <th>283</th>\n",
       "      <td>2020-05-01 19:00:00</td>\n",
       "      <td>39.994348</td>\n",
       "      <td>62.018696</td>\n",
       "      <td>45.491739</td>\n",
       "    </tr>\n",
       "    <tr>\n",
       "      <th>284</th>\n",
       "      <td>2020-05-01 20:00:00</td>\n",
       "      <td>45.491739</td>\n",
       "      <td>70.036522</td>\n",
       "      <td>46.817826</td>\n",
       "    </tr>\n",
       "    <tr>\n",
       "      <th>285</th>\n",
       "      <td>2020-05-01 21:00:00</td>\n",
       "      <td>46.817826</td>\n",
       "      <td>77.330000</td>\n",
       "      <td>48.958261</td>\n",
       "    </tr>\n",
       "    <tr>\n",
       "      <th>286</th>\n",
       "      <td>2020-05-01 22:00:00</td>\n",
       "      <td>48.958261</td>\n",
       "      <td>78.827826</td>\n",
       "      <td>50.524783</td>\n",
       "    </tr>\n",
       "    <tr>\n",
       "      <th>287</th>\n",
       "      <td>2020-05-01 23:00:00</td>\n",
       "      <td>50.524783</td>\n",
       "      <td>78.843478</td>\n",
       "      <td>49.862609</td>\n",
       "    </tr>\n",
       "    <tr>\n",
       "      <th>288</th>\n",
       "      <td>2020-05-02 00:00:00</td>\n",
       "      <td>49.862609</td>\n",
       "      <td>76.211739</td>\n",
       "      <td>48.520870</td>\n",
       "    </tr>\n",
       "    <tr>\n",
       "      <th>289</th>\n",
       "      <td>2020-05-02 01:00:00</td>\n",
       "      <td>48.520870</td>\n",
       "      <td>73.402174</td>\n",
       "      <td>44.915217</td>\n",
       "    </tr>\n",
       "    <tr>\n",
       "      <th>290</th>\n",
       "      <td>2020-05-02 02:00:00</td>\n",
       "      <td>44.915217</td>\n",
       "      <td>68.183478</td>\n",
       "      <td>43.017391</td>\n",
       "    </tr>\n",
       "    <tr>\n",
       "      <th>291</th>\n",
       "      <td>2020-05-02 03:00:00</td>\n",
       "      <td>43.017391</td>\n",
       "      <td>64.420870</td>\n",
       "      <td>37.230000</td>\n",
       "    </tr>\n",
       "    <tr>\n",
       "      <th>292</th>\n",
       "      <td>2020-05-02 04:00:00</td>\n",
       "      <td>37.230000</td>\n",
       "      <td>62.488261</td>\n",
       "      <td>31.349130</td>\n",
       "    </tr>\n",
       "  </tbody>\n",
       "</table>\n",
       "</div>"
      ],
      "text/plain": [
       "           datetime_from  avg(pm10)  avg(humidity)     actual\n",
       "278  2020-05-01 14:00:00  10.544348      37.246522  13.741304\n",
       "279  2020-05-01 15:00:00  13.741304      37.459130  17.801739\n",
       "280  2020-05-01 16:00:00  17.801739      45.116087  24.442609\n",
       "281  2020-05-01 17:00:00  24.442609      48.803043  31.771304\n",
       "282  2020-05-01 18:00:00  31.771304      57.290870  39.994348\n",
       "283  2020-05-01 19:00:00  39.994348      62.018696  45.491739\n",
       "284  2020-05-01 20:00:00  45.491739      70.036522  46.817826\n",
       "285  2020-05-01 21:00:00  46.817826      77.330000  48.958261\n",
       "286  2020-05-01 22:00:00  48.958261      78.827826  50.524783\n",
       "287  2020-05-01 23:00:00  50.524783      78.843478  49.862609\n",
       "288  2020-05-02 00:00:00  49.862609      76.211739  48.520870\n",
       "289  2020-05-02 01:00:00  48.520870      73.402174  44.915217\n",
       "290  2020-05-02 02:00:00  44.915217      68.183478  43.017391\n",
       "291  2020-05-02 03:00:00  43.017391      64.420870  37.230000\n",
       "292  2020-05-02 04:00:00  37.230000      62.488261  31.349130"
      ]
     },
     "execution_count": 7,
     "metadata": {},
     "output_type": "execute_result"
    }
   ],
   "source": [
    "dataset_for_prediction=dataset_for_prediction.dropna()\n",
    "dataset_for_prediction.tail(15)"
   ]
  },
  {
   "cell_type": "markdown",
   "metadata": {},
   "source": [
    "### Ustawiamy date jako index "
   ]
  },
  {
   "cell_type": "code",
   "execution_count": 8,
   "metadata": {},
   "outputs": [
    {
     "data": {
      "text/html": [
       "<div>\n",
       "<style scoped>\n",
       "    .dataframe tbody tr th:only-of-type {\n",
       "        vertical-align: middle;\n",
       "    }\n",
       "\n",
       "    .dataframe tbody tr th {\n",
       "        vertical-align: top;\n",
       "    }\n",
       "\n",
       "    .dataframe thead th {\n",
       "        text-align: right;\n",
       "    }\n",
       "</style>\n",
       "<table border=\"1\" class=\"dataframe\">\n",
       "  <thead>\n",
       "    <tr style=\"text-align: right;\">\n",
       "      <th></th>\n",
       "      <th>datetime_from</th>\n",
       "      <th>avg(pm10)</th>\n",
       "      <th>avg(humidity)</th>\n",
       "      <th>actual</th>\n",
       "    </tr>\n",
       "    <tr>\n",
       "      <th>datetime_from</th>\n",
       "      <th></th>\n",
       "      <th></th>\n",
       "      <th></th>\n",
       "      <th></th>\n",
       "    </tr>\n",
       "  </thead>\n",
       "  <tbody>\n",
       "    <tr>\n",
       "      <th>2020-04-20 00:00:00</th>\n",
       "      <td>2020-04-20 00:00:00</td>\n",
       "      <td>26.202500</td>\n",
       "      <td>68.859000</td>\n",
       "      <td>26.457000</td>\n",
       "    </tr>\n",
       "    <tr>\n",
       "      <th>2020-04-20 01:00:00</th>\n",
       "      <td>2020-04-20 01:00:00</td>\n",
       "      <td>26.457000</td>\n",
       "      <td>73.956000</td>\n",
       "      <td>26.813500</td>\n",
       "    </tr>\n",
       "    <tr>\n",
       "      <th>2020-04-20 02:00:00</th>\n",
       "      <td>2020-04-20 02:00:00</td>\n",
       "      <td>26.813500</td>\n",
       "      <td>77.606500</td>\n",
       "      <td>25.633000</td>\n",
       "    </tr>\n",
       "    <tr>\n",
       "      <th>2020-04-20 03:00:00</th>\n",
       "      <td>2020-04-20 03:00:00</td>\n",
       "      <td>25.633000</td>\n",
       "      <td>79.678500</td>\n",
       "      <td>28.324000</td>\n",
       "    </tr>\n",
       "    <tr>\n",
       "      <th>2020-04-20 04:00:00</th>\n",
       "      <td>2020-04-20 04:00:00</td>\n",
       "      <td>28.324000</td>\n",
       "      <td>79.994500</td>\n",
       "      <td>26.528000</td>\n",
       "    </tr>\n",
       "    <tr>\n",
       "      <th>...</th>\n",
       "      <td>...</td>\n",
       "      <td>...</td>\n",
       "      <td>...</td>\n",
       "      <td>...</td>\n",
       "    </tr>\n",
       "    <tr>\n",
       "      <th>2020-05-02 00:00:00</th>\n",
       "      <td>2020-05-02 00:00:00</td>\n",
       "      <td>49.862609</td>\n",
       "      <td>76.211739</td>\n",
       "      <td>48.520870</td>\n",
       "    </tr>\n",
       "    <tr>\n",
       "      <th>2020-05-02 01:00:00</th>\n",
       "      <td>2020-05-02 01:00:00</td>\n",
       "      <td>48.520870</td>\n",
       "      <td>73.402174</td>\n",
       "      <td>44.915217</td>\n",
       "    </tr>\n",
       "    <tr>\n",
       "      <th>2020-05-02 02:00:00</th>\n",
       "      <td>2020-05-02 02:00:00</td>\n",
       "      <td>44.915217</td>\n",
       "      <td>68.183478</td>\n",
       "      <td>43.017391</td>\n",
       "    </tr>\n",
       "    <tr>\n",
       "      <th>2020-05-02 03:00:00</th>\n",
       "      <td>2020-05-02 03:00:00</td>\n",
       "      <td>43.017391</td>\n",
       "      <td>64.420870</td>\n",
       "      <td>37.230000</td>\n",
       "    </tr>\n",
       "    <tr>\n",
       "      <th>2020-05-02 04:00:00</th>\n",
       "      <td>2020-05-02 04:00:00</td>\n",
       "      <td>37.230000</td>\n",
       "      <td>62.488261</td>\n",
       "      <td>31.349130</td>\n",
       "    </tr>\n",
       "  </tbody>\n",
       "</table>\n",
       "<p>293 rows × 4 columns</p>\n",
       "</div>"
      ],
      "text/plain": [
       "                          datetime_from  avg(pm10)  avg(humidity)     actual\n",
       "datetime_from                                                               \n",
       "2020-04-20 00:00:00 2020-04-20 00:00:00  26.202500      68.859000  26.457000\n",
       "2020-04-20 01:00:00 2020-04-20 01:00:00  26.457000      73.956000  26.813500\n",
       "2020-04-20 02:00:00 2020-04-20 02:00:00  26.813500      77.606500  25.633000\n",
       "2020-04-20 03:00:00 2020-04-20 03:00:00  25.633000      79.678500  28.324000\n",
       "2020-04-20 04:00:00 2020-04-20 04:00:00  28.324000      79.994500  26.528000\n",
       "...                                 ...        ...            ...        ...\n",
       "2020-05-02 00:00:00 2020-05-02 00:00:00  49.862609      76.211739  48.520870\n",
       "2020-05-02 01:00:00 2020-05-02 01:00:00  48.520870      73.402174  44.915217\n",
       "2020-05-02 02:00:00 2020-05-02 02:00:00  44.915217      68.183478  43.017391\n",
       "2020-05-02 03:00:00 2020-05-02 03:00:00  43.017391      64.420870  37.230000\n",
       "2020-05-02 04:00:00 2020-05-02 04:00:00  37.230000      62.488261  31.349130\n",
       "\n",
       "[293 rows x 4 columns]"
      ]
     },
     "execution_count": 8,
     "metadata": {},
     "output_type": "execute_result"
    }
   ],
   "source": [
    "dataset_for_prediction['datetime_from'] = pd.to_datetime(dataset_for_prediction['datetime_from'])\n",
    "dataset_for_prediction.index = dataset_for_prediction['datetime_from']\n",
    "dataset_for_prediction"
   ]
  },
  {
   "cell_type": "markdown",
   "metadata": {},
   "source": [
    "### Rysowanie wykresów na podstawie danych"
   ]
  },
  {
   "cell_type": "markdown",
   "metadata": {},
   "source": [
    "PM10"
   ]
  },
  {
   "cell_type": "code",
   "execution_count": 9,
   "metadata": {},
   "outputs": [
    {
     "data": {
      "image/png": "[encoded data removed]",
      "text/plain": [
       "<Figure size 1080x144 with 1 Axes>"
      ]
     },
     "metadata": {
      "needs_background": "light"
     },
     "output_type": "display_data"
    }
   ],
   "source": [
    "dataset_for_prediction['avg(pm10)'].plot(color='green', figsize=(15, 2))\n",
    "plt.legend(['avg(pm10)'])\n",
    "plt.title('PM10')\n",
    "plt.show()"
   ]
  },
  {
   "cell_type": "markdown",
   "metadata": {},
   "source": [
    "Humidity"
   ]
  },
  {
   "cell_type": "code",
   "execution_count": 10,
   "metadata": {},
   "outputs": [
    {
     "data": {
      "image/png": "[encoded data removed]",
      "text/plain": [
       "<Figure size 1080x144 with 1 Axes>"
      ]
     },
     "metadata": {
      "needs_background": "light"
     },
     "output_type": "display_data"
    }
   ],
   "source": [
    "dataset_for_prediction['avg(humidity)'].plot(color='blue', figsize=(15, 2))\n",
    "plt.legend(['avg(humidity)'])\n",
    "plt.title('Humidity')\n",
    "plt.show()"
   ]
  },
  {
   "cell_type": "markdown",
   "metadata": {},
   "source": [
    "### Normalizacja danych wejściowych oraz target features"
   ]
  },
  {
   "cell_type": "code",
   "execution_count": 11,
   "metadata": {},
   "outputs": [
    {
     "data": {
      "text/html": [
       "<div>\n",
       "<style scoped>\n",
       "    .dataframe tbody tr th:only-of-type {\n",
       "        vertical-align: middle;\n",
       "    }\n",
       "\n",
       "    .dataframe tbody tr th {\n",
       "        vertical-align: top;\n",
       "    }\n",
       "\n",
       "    .dataframe thead th {\n",
       "        text-align: right;\n",
       "    }\n",
       "</style>\n",
       "<table border=\"1\" class=\"dataframe\">\n",
       "  <thead>\n",
       "    <tr style=\"text-align: right;\">\n",
       "      <th></th>\n",
       "      <th>0</th>\n",
       "      <th>1</th>\n",
       "    </tr>\n",
       "  </thead>\n",
       "  <tbody>\n",
       "    <tr>\n",
       "      <th>0</th>\n",
       "      <td>0.297815</td>\n",
       "      <td>0.585343</td>\n",
       "    </tr>\n",
       "    <tr>\n",
       "      <th>1</th>\n",
       "      <td>0.301809</td>\n",
       "      <td>0.655661</td>\n",
       "    </tr>\n",
       "    <tr>\n",
       "      <th>2</th>\n",
       "      <td>0.307404</td>\n",
       "      <td>0.706022</td>\n",
       "    </tr>\n",
       "    <tr>\n",
       "      <th>3</th>\n",
       "      <td>0.288877</td>\n",
       "      <td>0.734607</td>\n",
       "    </tr>\n",
       "    <tr>\n",
       "      <th>4</th>\n",
       "      <td>0.331110</td>\n",
       "      <td>0.738967</td>\n",
       "    </tr>\n",
       "    <tr>\n",
       "      <th>...</th>\n",
       "      <td>...</td>\n",
       "      <td>...</td>\n",
       "    </tr>\n",
       "    <tr>\n",
       "      <th>288</th>\n",
       "      <td>0.669144</td>\n",
       "      <td>0.686781</td>\n",
       "    </tr>\n",
       "    <tr>\n",
       "      <th>289</th>\n",
       "      <td>0.648086</td>\n",
       "      <td>0.648020</td>\n",
       "    </tr>\n",
       "    <tr>\n",
       "      <th>290</th>\n",
       "      <td>0.591498</td>\n",
       "      <td>0.576024</td>\n",
       "    </tr>\n",
       "    <tr>\n",
       "      <th>291</th>\n",
       "      <td>0.561713</td>\n",
       "      <td>0.524116</td>\n",
       "    </tr>\n",
       "    <tr>\n",
       "      <th>292</th>\n",
       "      <td>0.470884</td>\n",
       "      <td>0.497454</td>\n",
       "    </tr>\n",
       "  </tbody>\n",
       "</table>\n",
       "<p>293 rows × 2 columns</p>\n",
       "</div>"
      ],
      "text/plain": [
       "            0         1\n",
       "0    0.297815  0.585343\n",
       "1    0.301809  0.655661\n",
       "2    0.307404  0.706022\n",
       "3    0.288877  0.734607\n",
       "4    0.331110  0.738967\n",
       "..        ...       ...\n",
       "288  0.669144  0.686781\n",
       "289  0.648086  0.648020\n",
       "290  0.591498  0.576024\n",
       "291  0.561713  0.524116\n",
       "292  0.470884  0.497454\n",
       "\n",
       "[293 rows x 2 columns]"
      ]
     },
     "execution_count": 11,
     "metadata": {},
     "output_type": "execute_result"
    }
   ],
   "source": [
    "sc_in = MinMaxScaler(feature_range=(0, 1))\n",
    "scaled_input = sc_in.fit_transform(dataset_for_prediction[['avg(pm10)', 'avg(humidity)']])\n",
    "scaled_input = pd.DataFrame(scaled_input)\n",
    "X = scaled_input\n",
    "X"
   ]
  },
  {
   "cell_type": "code",
   "execution_count": 12,
   "metadata": {},
   "outputs": [
    {
     "data": {
      "text/html": [
       "<div>\n",
       "<style scoped>\n",
       "    .dataframe tbody tr th:only-of-type {\n",
       "        vertical-align: middle;\n",
       "    }\n",
       "\n",
       "    .dataframe tbody tr th {\n",
       "        vertical-align: top;\n",
       "    }\n",
       "\n",
       "    .dataframe thead th {\n",
       "        text-align: right;\n",
       "    }\n",
       "</style>\n",
       "<table border=\"1\" class=\"dataframe\">\n",
       "  <thead>\n",
       "    <tr style=\"text-align: right;\">\n",
       "      <th></th>\n",
       "      <th>0</th>\n",
       "    </tr>\n",
       "  </thead>\n",
       "  <tbody>\n",
       "    <tr>\n",
       "      <th>0</th>\n",
       "      <td>0.301809</td>\n",
       "    </tr>\n",
       "    <tr>\n",
       "      <th>1</th>\n",
       "      <td>0.307404</td>\n",
       "    </tr>\n",
       "    <tr>\n",
       "      <th>2</th>\n",
       "      <td>0.288877</td>\n",
       "    </tr>\n",
       "    <tr>\n",
       "      <th>3</th>\n",
       "      <td>0.331110</td>\n",
       "    </tr>\n",
       "    <tr>\n",
       "      <th>4</th>\n",
       "      <td>0.302923</td>\n",
       "    </tr>\n",
       "    <tr>\n",
       "      <th>...</th>\n",
       "      <td>...</td>\n",
       "    </tr>\n",
       "    <tr>\n",
       "      <th>288</th>\n",
       "      <td>0.648086</td>\n",
       "    </tr>\n",
       "    <tr>\n",
       "      <th>289</th>\n",
       "      <td>0.591498</td>\n",
       "    </tr>\n",
       "    <tr>\n",
       "      <th>290</th>\n",
       "      <td>0.561713</td>\n",
       "    </tr>\n",
       "    <tr>\n",
       "      <th>291</th>\n",
       "      <td>0.470884</td>\n",
       "    </tr>\n",
       "    <tr>\n",
       "      <th>292</th>\n",
       "      <td>0.378588</td>\n",
       "    </tr>\n",
       "  </tbody>\n",
       "</table>\n",
       "<p>293 rows × 1 columns</p>\n",
       "</div>"
      ],
      "text/plain": [
       "            0\n",
       "0    0.301809\n",
       "1    0.307404\n",
       "2    0.288877\n",
       "3    0.331110\n",
       "4    0.302923\n",
       "..        ...\n",
       "288  0.648086\n",
       "289  0.591498\n",
       "290  0.561713\n",
       "291  0.470884\n",
       "292  0.378588\n",
       "\n",
       "[293 rows x 1 columns]"
      ]
     },
     "execution_count": 12,
     "metadata": {},
     "output_type": "execute_result"
    }
   ],
   "source": [
    "sc_out = MinMaxScaler(feature_range=(0, 1))\n",
    "scaler_output = sc_out.fit_transform(dataset_for_prediction[['actual']])\n",
    "scaler_output = pd.DataFrame(scaler_output)\n",
    "y = scaler_output\n",
    "y"
   ]
  },
  {
   "cell_type": "markdown",
   "metadata": {},
   "source": [
    "### Zmiana nazw kolumn dla danych wejściowych i targetów"
   ]
  },
  {
   "cell_type": "code",
   "execution_count": 13,
   "metadata": {},
   "outputs": [],
   "source": [
    "X.rename(columns={0: 'pm10', 1: 'humidity'}, inplace=True)\n",
    "y.rename(columns={0: 'pm10 prediction'}, inplace=True)\n",
    "y.index=dataset_for_prediction.index\n",
    "X.index=dataset_for_prediction.index"
   ]
  },
  {
   "cell_type": "code",
   "execution_count": 14,
   "metadata": {},
   "outputs": [
    {
     "data": {
      "text/html": [
       "<div>\n",
       "<style scoped>\n",
       "    .dataframe tbody tr th:only-of-type {\n",
       "        vertical-align: middle;\n",
       "    }\n",
       "\n",
       "    .dataframe tbody tr th {\n",
       "        vertical-align: top;\n",
       "    }\n",
       "\n",
       "    .dataframe thead th {\n",
       "        text-align: right;\n",
       "    }\n",
       "</style>\n",
       "<table border=\"1\" class=\"dataframe\">\n",
       "  <thead>\n",
       "    <tr style=\"text-align: right;\">\n",
       "      <th></th>\n",
       "      <th>pm10</th>\n",
       "      <th>humidity</th>\n",
       "    </tr>\n",
       "    <tr>\n",
       "      <th>datetime_from</th>\n",
       "      <th></th>\n",
       "      <th></th>\n",
       "    </tr>\n",
       "  </thead>\n",
       "  <tbody>\n",
       "    <tr>\n",
       "      <th>2020-04-20 00:00:00</th>\n",
       "      <td>0.297815</td>\n",
       "      <td>0.585343</td>\n",
       "    </tr>\n",
       "    <tr>\n",
       "      <th>2020-04-20 01:00:00</th>\n",
       "      <td>0.301809</td>\n",
       "      <td>0.655661</td>\n",
       "    </tr>\n",
       "    <tr>\n",
       "      <th>2020-04-20 02:00:00</th>\n",
       "      <td>0.307404</td>\n",
       "      <td>0.706022</td>\n",
       "    </tr>\n",
       "    <tr>\n",
       "      <th>2020-04-20 03:00:00</th>\n",
       "      <td>0.288877</td>\n",
       "      <td>0.734607</td>\n",
       "    </tr>\n",
       "    <tr>\n",
       "      <th>2020-04-20 04:00:00</th>\n",
       "      <td>0.331110</td>\n",
       "      <td>0.738967</td>\n",
       "    </tr>\n",
       "    <tr>\n",
       "      <th>...</th>\n",
       "      <td>...</td>\n",
       "      <td>...</td>\n",
       "    </tr>\n",
       "    <tr>\n",
       "      <th>2020-05-02 00:00:00</th>\n",
       "      <td>0.669144</td>\n",
       "      <td>0.686781</td>\n",
       "    </tr>\n",
       "    <tr>\n",
       "      <th>2020-05-02 01:00:00</th>\n",
       "      <td>0.648086</td>\n",
       "      <td>0.648020</td>\n",
       "    </tr>\n",
       "    <tr>\n",
       "      <th>2020-05-02 02:00:00</th>\n",
       "      <td>0.591498</td>\n",
       "      <td>0.576024</td>\n",
       "    </tr>\n",
       "    <tr>\n",
       "      <th>2020-05-02 03:00:00</th>\n",
       "      <td>0.561713</td>\n",
       "      <td>0.524116</td>\n",
       "    </tr>\n",
       "    <tr>\n",
       "      <th>2020-05-02 04:00:00</th>\n",
       "      <td>0.470884</td>\n",
       "      <td>0.497454</td>\n",
       "    </tr>\n",
       "  </tbody>\n",
       "</table>\n",
       "<p>293 rows × 2 columns</p>\n",
       "</div>"
      ],
      "text/plain": [
       "                         pm10  humidity\n",
       "datetime_from                          \n",
       "2020-04-20 00:00:00  0.297815  0.585343\n",
       "2020-04-20 01:00:00  0.301809  0.655661\n",
       "2020-04-20 02:00:00  0.307404  0.706022\n",
       "2020-04-20 03:00:00  0.288877  0.734607\n",
       "2020-04-20 04:00:00  0.331110  0.738967\n",
       "...                       ...       ...\n",
       "2020-05-02 00:00:00  0.669144  0.686781\n",
       "2020-05-02 01:00:00  0.648086  0.648020\n",
       "2020-05-02 02:00:00  0.591498  0.576024\n",
       "2020-05-02 03:00:00  0.561713  0.524116\n",
       "2020-05-02 04:00:00  0.470884  0.497454\n",
       "\n",
       "[293 rows x 2 columns]"
      ]
     },
     "execution_count": 14,
     "metadata": {},
     "output_type": "execute_result"
    }
   ],
   "source": [
    "X"
   ]
  },
  {
   "cell_type": "code",
   "execution_count": 15,
   "metadata": {},
   "outputs": [
    {
     "data": {
      "text/html": [
       "<div>\n",
       "<style scoped>\n",
       "    .dataframe tbody tr th:only-of-type {\n",
       "        vertical-align: middle;\n",
       "    }\n",
       "\n",
       "    .dataframe tbody tr th {\n",
       "        vertical-align: top;\n",
       "    }\n",
       "\n",
       "    .dataframe thead th {\n",
       "        text-align: right;\n",
       "    }\n",
       "</style>\n",
       "<table border=\"1\" class=\"dataframe\">\n",
       "  <thead>\n",
       "    <tr style=\"text-align: right;\">\n",
       "      <th></th>\n",
       "      <th>pm10 prediction</th>\n",
       "    </tr>\n",
       "    <tr>\n",
       "      <th>datetime_from</th>\n",
       "      <th></th>\n",
       "    </tr>\n",
       "  </thead>\n",
       "  <tbody>\n",
       "    <tr>\n",
       "      <th>2020-04-20 00:00:00</th>\n",
       "      <td>0.301809</td>\n",
       "    </tr>\n",
       "    <tr>\n",
       "      <th>2020-04-20 01:00:00</th>\n",
       "      <td>0.307404</td>\n",
       "    </tr>\n",
       "    <tr>\n",
       "      <th>2020-04-20 02:00:00</th>\n",
       "      <td>0.288877</td>\n",
       "    </tr>\n",
       "    <tr>\n",
       "      <th>2020-04-20 03:00:00</th>\n",
       "      <td>0.331110</td>\n",
       "    </tr>\n",
       "    <tr>\n",
       "      <th>2020-04-20 04:00:00</th>\n",
       "      <td>0.302923</td>\n",
       "    </tr>\n",
       "    <tr>\n",
       "      <th>...</th>\n",
       "      <td>...</td>\n",
       "    </tr>\n",
       "    <tr>\n",
       "      <th>2020-05-02 00:00:00</th>\n",
       "      <td>0.648086</td>\n",
       "    </tr>\n",
       "    <tr>\n",
       "      <th>2020-05-02 01:00:00</th>\n",
       "      <td>0.591498</td>\n",
       "    </tr>\n",
       "    <tr>\n",
       "      <th>2020-05-02 02:00:00</th>\n",
       "      <td>0.561713</td>\n",
       "    </tr>\n",
       "    <tr>\n",
       "      <th>2020-05-02 03:00:00</th>\n",
       "      <td>0.470884</td>\n",
       "    </tr>\n",
       "    <tr>\n",
       "      <th>2020-05-02 04:00:00</th>\n",
       "      <td>0.378588</td>\n",
       "    </tr>\n",
       "  </tbody>\n",
       "</table>\n",
       "<p>293 rows × 1 columns</p>\n",
       "</div>"
      ],
      "text/plain": [
       "                     pm10 prediction\n",
       "datetime_from                       \n",
       "2020-04-20 00:00:00         0.301809\n",
       "2020-04-20 01:00:00         0.307404\n",
       "2020-04-20 02:00:00         0.288877\n",
       "2020-04-20 03:00:00         0.331110\n",
       "2020-04-20 04:00:00         0.302923\n",
       "...                              ...\n",
       "2020-05-02 00:00:00         0.648086\n",
       "2020-05-02 01:00:00         0.591498\n",
       "2020-05-02 02:00:00         0.561713\n",
       "2020-05-02 03:00:00         0.470884\n",
       "2020-05-02 04:00:00         0.378588\n",
       "\n",
       "[293 rows x 1 columns]"
      ]
     },
     "execution_count": 15,
     "metadata": {},
     "output_type": "execute_result"
    }
   ],
   "source": [
    "y"
   ]
  },
  {
   "cell_type": "markdown",
   "metadata": {},
   "source": [
    "### Podział datasetu na dane treningowe i testowe"
   ]
  },
  {
   "cell_type": "code",
   "execution_count": 16,
   "metadata": {},
   "outputs": [],
   "source": [
    "train_size = int(len(dataset) * 0.90)\n",
    "test_size = int(len(dataset)) - train_size\n",
    "\n",
    "train_X, train_y = X[:train_size].dropna(), y[:train_size].dropna()\n",
    "test_X, test_y = X[train_size:].dropna(), y[train_size:].dropna()"
   ]
  },
  {
   "cell_type": "markdown",
   "metadata": {},
   "source": [
    "### Dekompoyzcja szeregu czasowego na trend, sezonowość/cykliczność, szum"
   ]
  },
  {
   "cell_type": "code",
   "execution_count": 17,
   "metadata": {},
   "outputs": [
    {
     "data": {
      "image/png": "[encoded data removed]",
      "text/plain": [
       "<Figure size 1152x720 with 4 Axes>"
      ]
     },
     "metadata": {
      "needs_background": "light"
     },
     "output_type": "display_data"
    }
   ],
   "source": [
    "seas_d=sm.tsa.seasonal_decompose(X['pm10'],model='add',period=24);\n",
    "fig=seas_d.plot()\n",
    "fig.set_figheight(10)\n",
    "fig.set_figwidth(16)\n",
    "plt.show()"
   ]
  },
  {
   "cell_type": "markdown",
   "metadata": {},
   "source": [
    "Additive model = Trend + Seasonality + Random Noise"
   ]
  },
  {
   "cell_type": "markdown",
   "metadata": {},
   "source": [
    "### Sprawdzamy stacjonarość danych poprzez Augmented Dickey Fuller(ADF) test"
   ]
  },
  {
   "cell_type": "markdown",
   "metadata": {},
   "source": [
    "Jeśli sprawimy że dane będą stacjonare to model będzie wykonywał przewidywania na podstawie tego że średnia oraz wariancją będą takie są przez przyszłe okresy."
   ]
  },
  {
   "cell_type": "code",
   "execution_count": 18,
   "metadata": {},
   "outputs": [],
   "source": [
    "def test_adf(series, title=''):\n",
    "    dfout={}\n",
    "    dftest=sm.tsa.adfuller(series.dropna(), autolag='AIC', regression='ct')\n",
    "    for key,val in dftest[4].items():\n",
    "        dfout[f'critical value ({key})']=val\n",
    "    if dftest[1]<=0.05:\n",
    "        print(\"Strong evidence against Null Hypothesis\")\n",
    "        print(\"Reject Null Hypothesis - Data is Stationary\")\n",
    "        print(\"Data is Stationary\", title)\n",
    "    else:\n",
    "        print(\"Strong evidence for  Null Hypothesis\")\n",
    "        print(\"Accept Null Hypothesis - Data is not Stationary\")\n",
    "        print(\"Data is NOT Stationary for\", title)"
   ]
  },
  {
   "cell_type": "code",
   "execution_count": 19,
   "metadata": {},
   "outputs": [
    {
     "name": "stdout",
     "output_type": "stream",
     "text": [
      "Strong evidence against Null Hypothesis\n",
      "Reject Null Hypothesis - Data is Stationary\n",
      "Data is Stationary pm10\n"
     ]
    }
   ],
   "source": [
    "y_test=y['pm10 prediction'][:train_size].dropna()\n",
    "test_adf(y_test, 'pm10')"
   ]
  },
  {
   "cell_type": "markdown",
   "metadata": {},
   "source": [
    "### Dane stacjonarne - różnicowanie"
   ]
  },
  {
   "cell_type": "code",
   "execution_count": 20,
   "metadata": {},
   "outputs": [
    {
     "name": "stdout",
     "output_type": "stream",
     "text": [
      "Strong evidence against Null Hypothesis\n",
      "Reject Null Hypothesis - Data is Stationary\n",
      "Data is Stationary pm10\n"
     ]
    }
   ],
   "source": [
    "test_adf(y_test.diff(), 'pm10')"
   ]
  },
  {
   "cell_type": "markdown",
   "metadata": {},
   "source": [
    "### Budowanie modelu\n",
    "\n",
    "ACF plot: wykres słupkowy współczynników korelacji między szeregiem czasowym a jego własnym opóźnieniem\n",
    "\n",
    "PACF plot: wykres słupkowy współczynników częściowej korelacji między szeregiem czasowym a jego własnym opóźnieniem"
   ]
  },
  {
   "cell_type": "code",
   "execution_count": 21,
   "metadata": {},
   "outputs": [
    {
     "data": {
      "image/png": "[encoded data removed]",
      "text/plain": [
       "<Figure size 720x360 with 2 Axes>"
      ]
     },
     "metadata": {
      "needs_background": "light"
     },
     "output_type": "display_data"
    }
   ],
   "source": [
    "fig,ax= plt.subplots(2,1, figsize=(10,5))\n",
    "fig=sm.tsa.graphics.plot_acf(y_test, lags=50, ax=ax[0])\n",
    "fig=sm.tsa.graphics.plot_pacf(y_test, lags=50, ax=ax[1])\n",
    "plt.show()"
   ]
  },
  {
   "cell_type": "markdown",
   "metadata": {},
   "source": [
    "### Funkcja auto_arima która dobiera najlepsze parametry modelu ARIMA do szeregu czasowego.\n",
    "\n",
    "Losowo wybiera i sprawdza kolejne paraemtry dobierając w ten sposób te najlepsze. Próbuje zminimalizować partykę AIC (Akaike Information Criterion) - dobiera parametry dla ktorych jest najmniejsza."
   ]
  },
  {
   "cell_type": "code",
   "execution_count": 22,
   "metadata": {},
   "outputs": [
    {
     "name": "stdout",
     "output_type": "stream",
     "text": [
      "Performing stepwise search to minimize aic\n",
      "Fit ARIMA(1,1,1)x(0,0,0,0) [intercept=True]; AIC=-603.344, BIC=-581.911, Time=0.254 seconds\n",
      "Fit ARIMA(0,1,0)x(0,0,0,0) [intercept=True]; AIC=-591.386, BIC=-577.097, Time=0.046 seconds\n",
      "Fit ARIMA(1,1,0)x(0,0,0,0) [intercept=True]; AIC=-597.922, BIC=-580.061, Time=0.107 seconds\n",
      "Fit ARIMA(0,1,1)x(0,0,0,0) [intercept=True]; AIC=-605.262, BIC=-587.401, Time=0.136 seconds\n",
      "Fit ARIMA(0,1,0)x(0,0,0,0) [intercept=False]; AIC=-593.363, BIC=-582.646, Time=0.053 seconds\n",
      "Fit ARIMA(0,1,2)x(0,0,0,0) [intercept=True]; AIC=-603.383, BIC=-581.950, Time=0.278 seconds\n",
      "Fit ARIMA(1,1,2)x(0,0,0,0) [intercept=True]; AIC=-609.421, BIC=-584.416, Time=0.376 seconds\n",
      "Fit ARIMA(2,1,2)x(0,0,0,0) [intercept=True]; AIC=-601.537, BIC=-572.960, Time=0.369 seconds\n",
      "Fit ARIMA(1,1,3)x(0,0,0,0) [intercept=True]; AIC=-602.221, BIC=-573.644, Time=0.418 seconds\n",
      "Fit ARIMA(0,1,3)x(0,0,0,0) [intercept=True]; AIC=-602.175, BIC=-577.170, Time=0.307 seconds\n",
      "Fit ARIMA(2,1,1)x(0,0,0,0) [intercept=True]; AIC=-602.662, BIC=-577.657, Time=0.276 seconds\n",
      "Fit ARIMA(2,1,3)x(0,0,0,0) [intercept=True]; AIC=-600.506, BIC=-568.357, Time=0.474 seconds\n",
      "Total fit time: 3.103 seconds\n"
     ]
    }
   ],
   "source": [
    "step_wise=auto_arima(train_y, \n",
    " exogenous= train_X,\n",
    " start_p=1, start_q=1, \n",
    " max_p=7, max_q=7, \n",
    " d=1, max_d=7,\n",
    " trace=True, \n",
    " error_action='ignore', \n",
    " suppress_warnings=True, \n",
    " stepwise=True)"
   ]
  },
  {
   "cell_type": "code",
   "execution_count": 23,
   "metadata": {},
   "outputs": [
    {
     "data": {
      "text/html": [
       "<table class=\"simpletable\">\n",
       "<caption>SARIMAX Results</caption>\n",
       "<tr>\n",
       "  <th>Dep. Variable:</th>           <td>y</td>        <th>  No. Observations:  </th>    <td>264</td>  \n",
       "</tr>\n",
       "<tr>\n",
       "  <th>Model:</th>           <td>SARIMAX(1, 1, 2)</td> <th>  Log Likelihood     </th>  <td>311.711</td>\n",
       "</tr>\n",
       "<tr>\n",
       "  <th>Date:</th>            <td>Fri, 08 May 2020</td> <th>  AIC                </th> <td>-609.421</td>\n",
       "</tr>\n",
       "<tr>\n",
       "  <th>Time:</th>                <td>12:23:27</td>     <th>  BIC                </th> <td>-584.416</td>\n",
       "</tr>\n",
       "<tr>\n",
       "  <th>Sample:</th>             <td>04-20-2020</td>    <th>  HQIC               </th> <td>-599.372</td>\n",
       "</tr>\n",
       "<tr>\n",
       "  <th></th>                   <td>- 04-30-2020</td>   <th>                     </th>     <td> </td>   \n",
       "</tr>\n",
       "<tr>\n",
       "  <th>Covariance Type:</th>        <td>opg</td>       <th>                     </th>     <td> </td>   \n",
       "</tr>\n",
       "</table>\n",
       "<table class=\"simpletable\">\n",
       "<tr>\n",
       "      <td></td>         <th>coef</th>     <th>std err</th>      <th>z</th>      <th>P>|z|</th>  <th>[0.025</th>    <th>0.975]</th>  \n",
       "</tr>\n",
       "<tr>\n",
       "  <th>intercept</th> <td> 6.535e-05</td> <td>    0.000</td> <td>    0.185</td> <td> 0.853</td> <td>   -0.001</td> <td>    0.001</td>\n",
       "</tr>\n",
       "<tr>\n",
       "  <th>pm10</th>      <td>   -0.0671</td> <td>    0.152</td> <td>   -0.442</td> <td> 0.658</td> <td>   -0.365</td> <td>    0.230</td>\n",
       "</tr>\n",
       "<tr>\n",
       "  <th>humidity</th>  <td>    0.9183</td> <td>    0.157</td> <td>    5.850</td> <td> 0.000</td> <td>    0.611</td> <td>    1.226</td>\n",
       "</tr>\n",
       "<tr>\n",
       "  <th>ar.L1</th>     <td>    0.8845</td> <td>    0.113</td> <td>    7.842</td> <td> 0.000</td> <td>    0.663</td> <td>    1.106</td>\n",
       "</tr>\n",
       "<tr>\n",
       "  <th>ma.L1</th>     <td>   -0.4563</td> <td>    0.152</td> <td>   -3.009</td> <td> 0.003</td> <td>   -0.753</td> <td>   -0.159</td>\n",
       "</tr>\n",
       "<tr>\n",
       "  <th>ma.L2</th>     <td>   -0.4788</td> <td>    0.140</td> <td>   -3.410</td> <td> 0.001</td> <td>   -0.754</td> <td>   -0.204</td>\n",
       "</tr>\n",
       "<tr>\n",
       "  <th>sigma2</th>    <td>    0.0054</td> <td>    0.000</td> <td>   19.969</td> <td> 0.000</td> <td>    0.005</td> <td>    0.006</td>\n",
       "</tr>\n",
       "</table>\n",
       "<table class=\"simpletable\">\n",
       "<tr>\n",
       "  <th>Ljung-Box (Q):</th>          <td>73.63</td> <th>  Jarque-Bera (JB):  </th> <td>405.28</td>\n",
       "</tr>\n",
       "<tr>\n",
       "  <th>Prob(Q):</th>                <td>0.00</td>  <th>  Prob(JB):          </th>  <td>0.00</td> \n",
       "</tr>\n",
       "<tr>\n",
       "  <th>Heteroskedasticity (H):</th> <td>1.39</td>  <th>  Skew:              </th>  <td>0.09</td> \n",
       "</tr>\n",
       "<tr>\n",
       "  <th>Prob(H) (two-sided):</th>    <td>0.12</td>  <th>  Kurtosis:          </th>  <td>9.08</td> \n",
       "</tr>\n",
       "</table><br/><br/>Warnings:<br/>[1] Covariance matrix calculated using the outer product of gradients (complex-step)."
      ],
      "text/plain": [
       "<class 'statsmodels.iolib.summary.Summary'>\n",
       "\"\"\"\n",
       "                               SARIMAX Results                                \n",
       "==============================================================================\n",
       "Dep. Variable:                      y   No. Observations:                  264\n",
       "Model:               SARIMAX(1, 1, 2)   Log Likelihood                 311.711\n",
       "Date:                Fri, 08 May 2020   AIC                           -609.421\n",
       "Time:                        12:23:27   BIC                           -584.416\n",
       "Sample:                    04-20-2020   HQIC                          -599.372\n",
       "                         - 04-30-2020                                         \n",
       "Covariance Type:                  opg                                         \n",
       "==============================================================================\n",
       "                 coef    std err          z      P>|z|      [0.025      0.975]\n",
       "------------------------------------------------------------------------------\n",
       "intercept   6.535e-05      0.000      0.185      0.853      -0.001       0.001\n",
       "pm10          -0.0671      0.152     -0.442      0.658      -0.365       0.230\n",
       "humidity       0.9183      0.157      5.850      0.000       0.611       1.226\n",
       "ar.L1          0.8845      0.113      7.842      0.000       0.663       1.106\n",
       "ma.L1         -0.4563      0.152     -3.009      0.003      -0.753      -0.159\n",
       "ma.L2         -0.4788      0.140     -3.410      0.001      -0.754      -0.204\n",
       "sigma2         0.0054      0.000     19.969      0.000       0.005       0.006\n",
       "===================================================================================\n",
       "Ljung-Box (Q):                       73.63   Jarque-Bera (JB):               405.28\n",
       "Prob(Q):                              0.00   Prob(JB):                         0.00\n",
       "Heteroskedasticity (H):               1.39   Skew:                             0.09\n",
       "Prob(H) (two-sided):                  0.12   Kurtosis:                         9.08\n",
       "===================================================================================\n",
       "\n",
       "Warnings:\n",
       "[1] Covariance matrix calculated using the outer product of gradients (complex-step).\n",
       "\"\"\""
      ]
     },
     "execution_count": 23,
     "metadata": {},
     "output_type": "execute_result"
    }
   ],
   "source": [
    "step_wise.summary()"
   ]
  },
  {
   "cell_type": "markdown",
   "metadata": {},
   "source": [
    "Zasugerowany został SARIMAX oraz wartości dla p,d,q wynoszące odpowiednio 2,1,0."
   ]
  },
  {
   "cell_type": "markdown",
   "metadata": {},
   "source": [
    "### Trenowanie modelu"
   ]
  },
  {
   "cell_type": "code",
   "execution_count": 24,
   "metadata": {
    "scrolled": true
   },
   "outputs": [
    {
     "name": "stderr",
     "output_type": "stream",
     "text": [
      "/usr/local/lib/python3.7/site-packages/statsmodels/tsa/base/tsa_model.py:162: ValueWarning: No frequency information was provided, so inferred frequency H will be used.\n",
      "  % freq, ValueWarning)\n",
      "/usr/local/lib/python3.7/site-packages/statsmodels/tsa/base/tsa_model.py:162: ValueWarning: No frequency information was provided, so inferred frequency H will be used.\n",
      "  % freq, ValueWarning)\n"
     ]
    }
   ],
   "source": [
    "model = SARIMAX(train_y, exog=train_X, order=(2,1,0), enforce_invertibility=False, enforce_stationarity=False)"
   ]
  },
  {
   "cell_type": "code",
   "execution_count": 25,
   "metadata": {},
   "outputs": [],
   "source": [
    "results = model.fit()"
   ]
  },
  {
   "cell_type": "code",
   "execution_count": 26,
   "metadata": {},
   "outputs": [
    {
     "data": {
      "text/html": [
       "<div>\n",
       "<style scoped>\n",
       "    .dataframe tbody tr th:only-of-type {\n",
       "        vertical-align: middle;\n",
       "    }\n",
       "\n",
       "    .dataframe tbody tr th {\n",
       "        vertical-align: top;\n",
       "    }\n",
       "\n",
       "    .dataframe thead th {\n",
       "        text-align: right;\n",
       "    }\n",
       "</style>\n",
       "<table border=\"1\" class=\"dataframe\">\n",
       "  <thead>\n",
       "    <tr style=\"text-align: right;\">\n",
       "      <th></th>\n",
       "      <th>pm10 prediction</th>\n",
       "    </tr>\n",
       "    <tr>\n",
       "      <th>datetime_from</th>\n",
       "      <th></th>\n",
       "    </tr>\n",
       "  </thead>\n",
       "  <tbody>\n",
       "    <tr>\n",
       "      <th>2020-04-20 00:00:00</th>\n",
       "      <td>0.301809</td>\n",
       "    </tr>\n",
       "    <tr>\n",
       "      <th>2020-04-20 01:00:00</th>\n",
       "      <td>0.307404</td>\n",
       "    </tr>\n",
       "    <tr>\n",
       "      <th>2020-04-20 02:00:00</th>\n",
       "      <td>0.288877</td>\n",
       "    </tr>\n",
       "    <tr>\n",
       "      <th>2020-04-20 03:00:00</th>\n",
       "      <td>0.331110</td>\n",
       "    </tr>\n",
       "    <tr>\n",
       "      <th>2020-04-20 04:00:00</th>\n",
       "      <td>0.302923</td>\n",
       "    </tr>\n",
       "    <tr>\n",
       "      <th>...</th>\n",
       "      <td>...</td>\n",
       "    </tr>\n",
       "    <tr>\n",
       "      <th>2020-04-30 19:00:00</th>\n",
       "      <td>0.646530</td>\n",
       "    </tr>\n",
       "    <tr>\n",
       "      <th>2020-04-30 20:00:00</th>\n",
       "      <td>0.701338</td>\n",
       "    </tr>\n",
       "    <tr>\n",
       "      <th>2020-04-30 21:00:00</th>\n",
       "      <td>0.749812</td>\n",
       "    </tr>\n",
       "    <tr>\n",
       "      <th>2020-04-30 22:00:00</th>\n",
       "      <td>0.743589</td>\n",
       "    </tr>\n",
       "    <tr>\n",
       "      <th>2020-04-30 23:00:00</th>\n",
       "      <td>0.766940</td>\n",
       "    </tr>\n",
       "  </tbody>\n",
       "</table>\n",
       "<p>264 rows × 1 columns</p>\n",
       "</div>"
      ],
      "text/plain": [
       "                     pm10 prediction\n",
       "datetime_from                       \n",
       "2020-04-20 00:00:00         0.301809\n",
       "2020-04-20 01:00:00         0.307404\n",
       "2020-04-20 02:00:00         0.288877\n",
       "2020-04-20 03:00:00         0.331110\n",
       "2020-04-20 04:00:00         0.302923\n",
       "...                              ...\n",
       "2020-04-30 19:00:00         0.646530\n",
       "2020-04-30 20:00:00         0.701338\n",
       "2020-04-30 21:00:00         0.749812\n",
       "2020-04-30 22:00:00         0.743589\n",
       "2020-04-30 23:00:00         0.766940\n",
       "\n",
       "[264 rows x 1 columns]"
      ]
     },
     "execution_count": 26,
     "metadata": {},
     "output_type": "execute_result"
    }
   ],
   "source": [
    "train_y"
   ]
  },
  {
   "cell_type": "markdown",
   "metadata": {},
   "source": [
    "### Predykcja"
   ]
  },
  {
   "cell_type": "markdown",
   "metadata": {},
   "source": [
    "predict()\n",
    "\n",
    "podajemy koniec oraz początek wraz ze zmienną exog, na podstawie której dokonana zostanie predykcja"
   ]
  },
  {
   "cell_type": "code",
   "execution_count": 27,
   "metadata": {},
   "outputs": [],
   "source": [
    "predictions= results.predict(start=train_size, end=train_size+test_size+(steps)-1,exog=test_X)"
   ]
  },
  {
   "cell_type": "markdown",
   "metadata": {},
   "source": [
    "### Stworzenie wykresu dla uzyskanej predykcji "
   ]
  },
  {
   "cell_type": "code",
   "execution_count": 28,
   "metadata": {},
   "outputs": [],
   "source": [
    "act= pd.DataFrame(scaler_output.iloc[train_size:, 0])"
   ]
  },
  {
   "cell_type": "code",
   "execution_count": 29,
   "metadata": {},
   "outputs": [],
   "source": [
    "predictions=pd.DataFrame(predictions)\n",
    "predictions.reset_index(drop=True, inplace=True)\n",
    "predictions.index=test_X.index\n",
    "predictions['actual'] = act['pm10 prediction']\n",
    "predictions.rename(columns={0:'Pred'}, inplace=True)"
   ]
  },
  {
   "cell_type": "code",
   "execution_count": 30,
   "metadata": {},
   "outputs": [
    {
     "data": {
      "text/plain": [
       "<matplotlib.axes._subplots.AxesSubplot at 0x1269cf8d0>"
      ]
     },
     "execution_count": 30,
     "metadata": {},
     "output_type": "execute_result"
    },
    {
     "data": {
      "image/png": "[encoded data removed]",
      "text/plain": [
       "<Figure size 1440x576 with 1 Axes>"
      ]
     },
     "metadata": {
      "needs_background": "light"
     },
     "output_type": "display_data"
    }
   ],
   "source": [
    "predictions['actual'].plot(figsize=(20,8), legend=True, color='blue')\n",
    "predictions['Pred'].plot(legend=True, color='red', figsize=(20,8))"
   ]
  },
  {
   "cell_type": "markdown",
   "metadata": {},
   "source": [
    "### Ewaluacja błędu"
   ]
  },
  {
   "cell_type": "code",
   "execution_count": 31,
   "metadata": {},
   "outputs": [
    {
     "data": {
      "text/plain": [
       "0.08451014381749967"
      ]
     },
     "execution_count": 31,
     "metadata": {},
     "output_type": "execute_result"
    }
   ],
   "source": [
    "from statsmodels.tools.eval_measures import rmse\n",
    "error=rmse(predictions['Pred'], predictions['actual'])\n",
    "error"
   ]
  },
  {
   "cell_type": "markdown",
   "metadata": {},
   "source": [
    "### Skalowanie do oryginalnych wartości"
   ]
  },
  {
   "cell_type": "code",
   "execution_count": 32,
   "metadata": {},
   "outputs": [],
   "source": [
    "trainPredict = sc_out.inverse_transform(predictions[['Pred']])\n",
    "testPredict = sc_out.inverse_transform(predictions[['actual']])"
   ]
  },
  {
   "cell_type": "code",
   "execution_count": null,
   "metadata": {},
   "outputs": [],
   "source": []
  }
 ],
 "metadata": {
  "kernelspec": {
   "display_name": "Python 3",
   "language": "python",
   "name": "python3"
  },
  "language_info": {
   "codemirror_mode": {
    "name": "ipython",
    "version": 3
   },
   "file_extension": ".py",
   "mimetype": "text/x-python",
   "name": "python",
   "nbconvert_exporter": "python",
   "pygments_lexer": "ipython3",
   "version": "3.7.5"
  }
 },
 "nbformat": 4,
 "nbformat_minor": 2
}
