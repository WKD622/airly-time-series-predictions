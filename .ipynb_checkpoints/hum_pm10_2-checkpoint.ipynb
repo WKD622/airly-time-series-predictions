{
 "cells": [
  {
   "cell_type": "markdown",
   "metadata": {},
   "source": [
    "# Szeregi czasowe\n",
    "\n",
    "Antoni Pięta\n",
    "\n",
    "Jaub Ziarko"
   ]
  },
  {
   "cell_type": "code",
   "execution_count": 1,
   "metadata": {},
   "outputs": [],
   "source": [
    "from pandas import read_csv\n",
    "import pandas as pd\n",
    "from matplotlib import pyplot as plt\n",
    "from sklearn.preprocessing import MinMaxScaler\n",
    "import statsmodels.api as sm\n",
    "from statsmodels.tsa.stattools import adfuller\n",
    "from pmdarima.arima import auto_arima\n",
    "from statsmodels.tsa.statespace.sarimax import SARIMAX"
   ]
  },
  {
   "cell_type": "markdown",
   "metadata": {},
   "source": [
    "### Ładowanie datasetu"
   ]
  },
  {
   "cell_type": "code",
   "execution_count": 2,
   "metadata": {},
   "outputs": [],
   "source": [
    "data_filename = 'result3.csv'\n",
    "dataset = read_csv(data_filename)"
   ]
  },
  {
   "cell_type": "markdown",
   "metadata": {},
   "source": [
    "### Klumny i przykładowane dane z datasetu"
   ]
  },
  {
   "cell_type": "code",
   "execution_count": 3,
   "metadata": {},
   "outputs": [
    {
     "data": {
      "text/html": [
       "<div>\n",
       "<style scoped>\n",
       "    .dataframe tbody tr th:only-of-type {\n",
       "        vertical-align: middle;\n",
       "    }\n",
       "\n",
       "    .dataframe tbody tr th {\n",
       "        vertical-align: top;\n",
       "    }\n",
       "\n",
       "    .dataframe thead th {\n",
       "        text-align: right;\n",
       "    }\n",
       "</style>\n",
       "<table border=\"1\" class=\"dataframe\">\n",
       "  <thead>\n",
       "    <tr style=\"text-align: right;\">\n",
       "      <th></th>\n",
       "      <th>datetime_from</th>\n",
       "      <th>avg(pm10)</th>\n",
       "      <th>avg(humidity)</th>\n",
       "    </tr>\n",
       "  </thead>\n",
       "  <tbody>\n",
       "    <tr>\n",
       "      <th>0</th>\n",
       "      <td>2020-04-26 00:00:00</td>\n",
       "      <td>20.124286</td>\n",
       "      <td>76.831429</td>\n",
       "    </tr>\n",
       "    <tr>\n",
       "      <th>1</th>\n",
       "      <td>2020-04-26 01:00:00</td>\n",
       "      <td>21.620952</td>\n",
       "      <td>79.454286</td>\n",
       "    </tr>\n",
       "    <tr>\n",
       "      <th>2</th>\n",
       "      <td>2020-04-26 02:00:00</td>\n",
       "      <td>24.160476</td>\n",
       "      <td>80.815238</td>\n",
       "    </tr>\n",
       "    <tr>\n",
       "      <th>3</th>\n",
       "      <td>2020-04-26 03:00:00</td>\n",
       "      <td>25.430000</td>\n",
       "      <td>80.139524</td>\n",
       "    </tr>\n",
       "    <tr>\n",
       "      <th>4</th>\n",
       "      <td>2020-04-26 04:00:00</td>\n",
       "      <td>25.989524</td>\n",
       "      <td>77.743333</td>\n",
       "    </tr>\n",
       "    <tr>\n",
       "      <th>5</th>\n",
       "      <td>2020-04-26 05:00:00</td>\n",
       "      <td>23.706667</td>\n",
       "      <td>71.871429</td>\n",
       "    </tr>\n",
       "    <tr>\n",
       "      <th>6</th>\n",
       "      <td>2020-04-26 06:00:00</td>\n",
       "      <td>19.599048</td>\n",
       "      <td>65.582857</td>\n",
       "    </tr>\n",
       "  </tbody>\n",
       "</table>\n",
       "</div>"
      ],
      "text/plain": [
       "         datetime_from  avg(pm10)  avg(humidity)\n",
       "0  2020-04-26 00:00:00  20.124286      76.831429\n",
       "1  2020-04-26 01:00:00  21.620952      79.454286\n",
       "2  2020-04-26 02:00:00  24.160476      80.815238\n",
       "3  2020-04-26 03:00:00  25.430000      80.139524\n",
       "4  2020-04-26 04:00:00  25.989524      77.743333\n",
       "5  2020-04-26 05:00:00  23.706667      71.871429\n",
       "6  2020-04-26 06:00:00  19.599048      65.582857"
      ]
     },
     "execution_count": 3,
     "metadata": {},
     "output_type": "execute_result"
    }
   ],
   "source": [
    "dataset.head(7)"
   ]
  },
  {
   "cell_type": "markdown",
   "metadata": {},
   "source": [
    "### Informacje o datasecie"
   ]
  },
  {
   "cell_type": "code",
   "execution_count": 4,
   "metadata": {},
   "outputs": [
    {
     "name": "stdout",
     "output_type": "stream",
     "text": [
      "<class 'pandas.core.frame.DataFrame'>\n",
      "RangeIndex: 120 entries, 0 to 119\n",
      "Data columns (total 3 columns):\n",
      "datetime_from    120 non-null object\n",
      "avg(pm10)        120 non-null float64\n",
      "avg(humidity)    120 non-null float64\n",
      "dtypes: float64(2), object(1)\n",
      "memory usage: 2.9+ KB\n"
     ]
    }
   ],
   "source": [
    "dataset.info()"
   ]
  },
  {
   "cell_type": "markdown",
   "metadata": {},
   "source": [
    "### Dodajemy kolumnę, która ma być używana do przewidywana - `actual`"
   ]
  },
  {
   "cell_type": "code",
   "execution_count": 5,
   "metadata": {},
   "outputs": [],
   "source": [
    "steps = -1\n",
    "dataset_for_prediction = dataset.copy()\n",
    "dataset_for_prediction['actual'] = dataset_for_prediction['avg(pm10)'].shift(steps)"
   ]
  },
  {
   "cell_type": "code",
   "execution_count": 6,
   "metadata": {},
   "outputs": [
    {
     "data": {
      "text/html": [
       "<div>\n",
       "<style scoped>\n",
       "    .dataframe tbody tr th:only-of-type {\n",
       "        vertical-align: middle;\n",
       "    }\n",
       "\n",
       "    .dataframe tbody tr th {\n",
       "        vertical-align: top;\n",
       "    }\n",
       "\n",
       "    .dataframe thead th {\n",
       "        text-align: right;\n",
       "    }\n",
       "</style>\n",
       "<table border=\"1\" class=\"dataframe\">\n",
       "  <thead>\n",
       "    <tr style=\"text-align: right;\">\n",
       "      <th></th>\n",
       "      <th>datetime_from</th>\n",
       "      <th>avg(pm10)</th>\n",
       "      <th>avg(humidity)</th>\n",
       "      <th>actual</th>\n",
       "    </tr>\n",
       "  </thead>\n",
       "  <tbody>\n",
       "    <tr>\n",
       "      <th>105</th>\n",
       "      <td>2020-04-30 09:00:00</td>\n",
       "      <td>46.247391</td>\n",
       "      <td>81.591304</td>\n",
       "      <td>43.043913</td>\n",
       "    </tr>\n",
       "    <tr>\n",
       "      <th>106</th>\n",
       "      <td>2020-04-30 10:00:00</td>\n",
       "      <td>43.043913</td>\n",
       "      <td>75.183478</td>\n",
       "      <td>40.766087</td>\n",
       "    </tr>\n",
       "    <tr>\n",
       "      <th>107</th>\n",
       "      <td>2020-04-30 11:00:00</td>\n",
       "      <td>40.766087</td>\n",
       "      <td>69.480435</td>\n",
       "      <td>37.980435</td>\n",
       "    </tr>\n",
       "    <tr>\n",
       "      <th>108</th>\n",
       "      <td>2020-04-30 12:00:00</td>\n",
       "      <td>37.980435</td>\n",
       "      <td>63.239565</td>\n",
       "      <td>35.386522</td>\n",
       "    </tr>\n",
       "    <tr>\n",
       "      <th>109</th>\n",
       "      <td>2020-04-30 13:00:00</td>\n",
       "      <td>35.386522</td>\n",
       "      <td>58.739565</td>\n",
       "      <td>36.052174</td>\n",
       "    </tr>\n",
       "    <tr>\n",
       "      <th>110</th>\n",
       "      <td>2020-04-30 14:00:00</td>\n",
       "      <td>36.052174</td>\n",
       "      <td>55.763913</td>\n",
       "      <td>37.265652</td>\n",
       "    </tr>\n",
       "    <tr>\n",
       "      <th>111</th>\n",
       "      <td>2020-04-30 15:00:00</td>\n",
       "      <td>37.265652</td>\n",
       "      <td>56.082174</td>\n",
       "      <td>39.158696</td>\n",
       "    </tr>\n",
       "    <tr>\n",
       "      <th>112</th>\n",
       "      <td>2020-04-30 16:00:00</td>\n",
       "      <td>39.158696</td>\n",
       "      <td>60.063043</td>\n",
       "      <td>37.452609</td>\n",
       "    </tr>\n",
       "    <tr>\n",
       "      <th>113</th>\n",
       "      <td>2020-04-30 17:00:00</td>\n",
       "      <td>37.452609</td>\n",
       "      <td>65.129130</td>\n",
       "      <td>37.653043</td>\n",
       "    </tr>\n",
       "    <tr>\n",
       "      <th>114</th>\n",
       "      <td>2020-04-30 18:00:00</td>\n",
       "      <td>37.653043</td>\n",
       "      <td>70.024783</td>\n",
       "      <td>41.697391</td>\n",
       "    </tr>\n",
       "    <tr>\n",
       "      <th>115</th>\n",
       "      <td>2020-04-30 19:00:00</td>\n",
       "      <td>41.697391</td>\n",
       "      <td>73.581739</td>\n",
       "      <td>48.421739</td>\n",
       "    </tr>\n",
       "    <tr>\n",
       "      <th>116</th>\n",
       "      <td>2020-04-30 20:00:00</td>\n",
       "      <td>48.421739</td>\n",
       "      <td>77.083478</td>\n",
       "      <td>51.913913</td>\n",
       "    </tr>\n",
       "    <tr>\n",
       "      <th>117</th>\n",
       "      <td>2020-04-30 21:00:00</td>\n",
       "      <td>51.913913</td>\n",
       "      <td>79.922609</td>\n",
       "      <td>55.002609</td>\n",
       "    </tr>\n",
       "    <tr>\n",
       "      <th>118</th>\n",
       "      <td>2020-04-30 22:00:00</td>\n",
       "      <td>55.002609</td>\n",
       "      <td>82.450000</td>\n",
       "      <td>54.606087</td>\n",
       "    </tr>\n",
       "    <tr>\n",
       "      <th>119</th>\n",
       "      <td>2020-04-30 23:00:00</td>\n",
       "      <td>54.606087</td>\n",
       "      <td>85.757826</td>\n",
       "      <td>NaN</td>\n",
       "    </tr>\n",
       "  </tbody>\n",
       "</table>\n",
       "</div>"
      ],
      "text/plain": [
       "           datetime_from  avg(pm10)  avg(humidity)     actual\n",
       "105  2020-04-30 09:00:00  46.247391      81.591304  43.043913\n",
       "106  2020-04-30 10:00:00  43.043913      75.183478  40.766087\n",
       "107  2020-04-30 11:00:00  40.766087      69.480435  37.980435\n",
       "108  2020-04-30 12:00:00  37.980435      63.239565  35.386522\n",
       "109  2020-04-30 13:00:00  35.386522      58.739565  36.052174\n",
       "110  2020-04-30 14:00:00  36.052174      55.763913  37.265652\n",
       "111  2020-04-30 15:00:00  37.265652      56.082174  39.158696\n",
       "112  2020-04-30 16:00:00  39.158696      60.063043  37.452609\n",
       "113  2020-04-30 17:00:00  37.452609      65.129130  37.653043\n",
       "114  2020-04-30 18:00:00  37.653043      70.024783  41.697391\n",
       "115  2020-04-30 19:00:00  41.697391      73.581739  48.421739\n",
       "116  2020-04-30 20:00:00  48.421739      77.083478  51.913913\n",
       "117  2020-04-30 21:00:00  51.913913      79.922609  55.002609\n",
       "118  2020-04-30 22:00:00  55.002609      82.450000  54.606087\n",
       "119  2020-04-30 23:00:00  54.606087      85.757826        NaN"
      ]
     },
     "execution_count": 6,
     "metadata": {},
     "output_type": "execute_result"
    }
   ],
   "source": [
    "dataset_for_prediction.tail(15)"
   ]
  },
  {
   "cell_type": "markdown",
   "metadata": {},
   "source": [
    "### Usuwamy wiersze z wartościami NaN"
   ]
  },
  {
   "cell_type": "code",
   "execution_count": 7,
   "metadata": {},
   "outputs": [
    {
     "data": {
      "text/html": [
       "<div>\n",
       "<style scoped>\n",
       "    .dataframe tbody tr th:only-of-type {\n",
       "        vertical-align: middle;\n",
       "    }\n",
       "\n",
       "    .dataframe tbody tr th {\n",
       "        vertical-align: top;\n",
       "    }\n",
       "\n",
       "    .dataframe thead th {\n",
       "        text-align: right;\n",
       "    }\n",
       "</style>\n",
       "<table border=\"1\" class=\"dataframe\">\n",
       "  <thead>\n",
       "    <tr style=\"text-align: right;\">\n",
       "      <th></th>\n",
       "      <th>datetime_from</th>\n",
       "      <th>avg(pm10)</th>\n",
       "      <th>avg(humidity)</th>\n",
       "      <th>actual</th>\n",
       "    </tr>\n",
       "  </thead>\n",
       "  <tbody>\n",
       "    <tr>\n",
       "      <th>104</th>\n",
       "      <td>2020-04-30 08:00:00</td>\n",
       "      <td>52.360435</td>\n",
       "      <td>87.122609</td>\n",
       "      <td>46.247391</td>\n",
       "    </tr>\n",
       "    <tr>\n",
       "      <th>105</th>\n",
       "      <td>2020-04-30 09:00:00</td>\n",
       "      <td>46.247391</td>\n",
       "      <td>81.591304</td>\n",
       "      <td>43.043913</td>\n",
       "    </tr>\n",
       "    <tr>\n",
       "      <th>106</th>\n",
       "      <td>2020-04-30 10:00:00</td>\n",
       "      <td>43.043913</td>\n",
       "      <td>75.183478</td>\n",
       "      <td>40.766087</td>\n",
       "    </tr>\n",
       "    <tr>\n",
       "      <th>107</th>\n",
       "      <td>2020-04-30 11:00:00</td>\n",
       "      <td>40.766087</td>\n",
       "      <td>69.480435</td>\n",
       "      <td>37.980435</td>\n",
       "    </tr>\n",
       "    <tr>\n",
       "      <th>108</th>\n",
       "      <td>2020-04-30 12:00:00</td>\n",
       "      <td>37.980435</td>\n",
       "      <td>63.239565</td>\n",
       "      <td>35.386522</td>\n",
       "    </tr>\n",
       "    <tr>\n",
       "      <th>109</th>\n",
       "      <td>2020-04-30 13:00:00</td>\n",
       "      <td>35.386522</td>\n",
       "      <td>58.739565</td>\n",
       "      <td>36.052174</td>\n",
       "    </tr>\n",
       "    <tr>\n",
       "      <th>110</th>\n",
       "      <td>2020-04-30 14:00:00</td>\n",
       "      <td>36.052174</td>\n",
       "      <td>55.763913</td>\n",
       "      <td>37.265652</td>\n",
       "    </tr>\n",
       "    <tr>\n",
       "      <th>111</th>\n",
       "      <td>2020-04-30 15:00:00</td>\n",
       "      <td>37.265652</td>\n",
       "      <td>56.082174</td>\n",
       "      <td>39.158696</td>\n",
       "    </tr>\n",
       "    <tr>\n",
       "      <th>112</th>\n",
       "      <td>2020-04-30 16:00:00</td>\n",
       "      <td>39.158696</td>\n",
       "      <td>60.063043</td>\n",
       "      <td>37.452609</td>\n",
       "    </tr>\n",
       "    <tr>\n",
       "      <th>113</th>\n",
       "      <td>2020-04-30 17:00:00</td>\n",
       "      <td>37.452609</td>\n",
       "      <td>65.129130</td>\n",
       "      <td>37.653043</td>\n",
       "    </tr>\n",
       "    <tr>\n",
       "      <th>114</th>\n",
       "      <td>2020-04-30 18:00:00</td>\n",
       "      <td>37.653043</td>\n",
       "      <td>70.024783</td>\n",
       "      <td>41.697391</td>\n",
       "    </tr>\n",
       "    <tr>\n",
       "      <th>115</th>\n",
       "      <td>2020-04-30 19:00:00</td>\n",
       "      <td>41.697391</td>\n",
       "      <td>73.581739</td>\n",
       "      <td>48.421739</td>\n",
       "    </tr>\n",
       "    <tr>\n",
       "      <th>116</th>\n",
       "      <td>2020-04-30 20:00:00</td>\n",
       "      <td>48.421739</td>\n",
       "      <td>77.083478</td>\n",
       "      <td>51.913913</td>\n",
       "    </tr>\n",
       "    <tr>\n",
       "      <th>117</th>\n",
       "      <td>2020-04-30 21:00:00</td>\n",
       "      <td>51.913913</td>\n",
       "      <td>79.922609</td>\n",
       "      <td>55.002609</td>\n",
       "    </tr>\n",
       "    <tr>\n",
       "      <th>118</th>\n",
       "      <td>2020-04-30 22:00:00</td>\n",
       "      <td>55.002609</td>\n",
       "      <td>82.450000</td>\n",
       "      <td>54.606087</td>\n",
       "    </tr>\n",
       "  </tbody>\n",
       "</table>\n",
       "</div>"
      ],
      "text/plain": [
       "           datetime_from  avg(pm10)  avg(humidity)     actual\n",
       "104  2020-04-30 08:00:00  52.360435      87.122609  46.247391\n",
       "105  2020-04-30 09:00:00  46.247391      81.591304  43.043913\n",
       "106  2020-04-30 10:00:00  43.043913      75.183478  40.766087\n",
       "107  2020-04-30 11:00:00  40.766087      69.480435  37.980435\n",
       "108  2020-04-30 12:00:00  37.980435      63.239565  35.386522\n",
       "109  2020-04-30 13:00:00  35.386522      58.739565  36.052174\n",
       "110  2020-04-30 14:00:00  36.052174      55.763913  37.265652\n",
       "111  2020-04-30 15:00:00  37.265652      56.082174  39.158696\n",
       "112  2020-04-30 16:00:00  39.158696      60.063043  37.452609\n",
       "113  2020-04-30 17:00:00  37.452609      65.129130  37.653043\n",
       "114  2020-04-30 18:00:00  37.653043      70.024783  41.697391\n",
       "115  2020-04-30 19:00:00  41.697391      73.581739  48.421739\n",
       "116  2020-04-30 20:00:00  48.421739      77.083478  51.913913\n",
       "117  2020-04-30 21:00:00  51.913913      79.922609  55.002609\n",
       "118  2020-04-30 22:00:00  55.002609      82.450000  54.606087"
      ]
     },
     "execution_count": 7,
     "metadata": {},
     "output_type": "execute_result"
    }
   ],
   "source": [
    "dataset_for_prediction=dataset_for_prediction.dropna()\n",
    "dataset_for_prediction.tail(15)"
   ]
  },
  {
   "cell_type": "markdown",
   "metadata": {},
   "source": [
    "### Ustawiamy date jako index "
   ]
  },
  {
   "cell_type": "code",
   "execution_count": 8,
   "metadata": {},
   "outputs": [
    {
     "data": {
      "text/html": [
       "<div>\n",
       "<style scoped>\n",
       "    .dataframe tbody tr th:only-of-type {\n",
       "        vertical-align: middle;\n",
       "    }\n",
       "\n",
       "    .dataframe tbody tr th {\n",
       "        vertical-align: top;\n",
       "    }\n",
       "\n",
       "    .dataframe thead th {\n",
       "        text-align: right;\n",
       "    }\n",
       "</style>\n",
       "<table border=\"1\" class=\"dataframe\">\n",
       "  <thead>\n",
       "    <tr style=\"text-align: right;\">\n",
       "      <th></th>\n",
       "      <th>datetime_from</th>\n",
       "      <th>avg(pm10)</th>\n",
       "      <th>avg(humidity)</th>\n",
       "      <th>actual</th>\n",
       "    </tr>\n",
       "    <tr>\n",
       "      <th>datetime_from</th>\n",
       "      <th></th>\n",
       "      <th></th>\n",
       "      <th></th>\n",
       "      <th></th>\n",
       "    </tr>\n",
       "  </thead>\n",
       "  <tbody>\n",
       "    <tr>\n",
       "      <th>2020-04-26 00:00:00</th>\n",
       "      <td>2020-04-26 00:00:00</td>\n",
       "      <td>20.124286</td>\n",
       "      <td>76.831429</td>\n",
       "      <td>21.620952</td>\n",
       "    </tr>\n",
       "    <tr>\n",
       "      <th>2020-04-26 01:00:00</th>\n",
       "      <td>2020-04-26 01:00:00</td>\n",
       "      <td>21.620952</td>\n",
       "      <td>79.454286</td>\n",
       "      <td>24.160476</td>\n",
       "    </tr>\n",
       "    <tr>\n",
       "      <th>2020-04-26 02:00:00</th>\n",
       "      <td>2020-04-26 02:00:00</td>\n",
       "      <td>24.160476</td>\n",
       "      <td>80.815238</td>\n",
       "      <td>25.430000</td>\n",
       "    </tr>\n",
       "    <tr>\n",
       "      <th>2020-04-26 03:00:00</th>\n",
       "      <td>2020-04-26 03:00:00</td>\n",
       "      <td>25.430000</td>\n",
       "      <td>80.139524</td>\n",
       "      <td>25.989524</td>\n",
       "    </tr>\n",
       "    <tr>\n",
       "      <th>2020-04-26 04:00:00</th>\n",
       "      <td>2020-04-26 04:00:00</td>\n",
       "      <td>25.989524</td>\n",
       "      <td>77.743333</td>\n",
       "      <td>23.706667</td>\n",
       "    </tr>\n",
       "    <tr>\n",
       "      <th>...</th>\n",
       "      <td>...</td>\n",
       "      <td>...</td>\n",
       "      <td>...</td>\n",
       "      <td>...</td>\n",
       "    </tr>\n",
       "    <tr>\n",
       "      <th>2020-04-30 18:00:00</th>\n",
       "      <td>2020-04-30 18:00:00</td>\n",
       "      <td>37.653043</td>\n",
       "      <td>70.024783</td>\n",
       "      <td>41.697391</td>\n",
       "    </tr>\n",
       "    <tr>\n",
       "      <th>2020-04-30 19:00:00</th>\n",
       "      <td>2020-04-30 19:00:00</td>\n",
       "      <td>41.697391</td>\n",
       "      <td>73.581739</td>\n",
       "      <td>48.421739</td>\n",
       "    </tr>\n",
       "    <tr>\n",
       "      <th>2020-04-30 20:00:00</th>\n",
       "      <td>2020-04-30 20:00:00</td>\n",
       "      <td>48.421739</td>\n",
       "      <td>77.083478</td>\n",
       "      <td>51.913913</td>\n",
       "    </tr>\n",
       "    <tr>\n",
       "      <th>2020-04-30 21:00:00</th>\n",
       "      <td>2020-04-30 21:00:00</td>\n",
       "      <td>51.913913</td>\n",
       "      <td>79.922609</td>\n",
       "      <td>55.002609</td>\n",
       "    </tr>\n",
       "    <tr>\n",
       "      <th>2020-04-30 22:00:00</th>\n",
       "      <td>2020-04-30 22:00:00</td>\n",
       "      <td>55.002609</td>\n",
       "      <td>82.450000</td>\n",
       "      <td>54.606087</td>\n",
       "    </tr>\n",
       "  </tbody>\n",
       "</table>\n",
       "<p>119 rows × 4 columns</p>\n",
       "</div>"
      ],
      "text/plain": [
       "                          datetime_from  avg(pm10)  avg(humidity)     actual\n",
       "datetime_from                                                               \n",
       "2020-04-26 00:00:00 2020-04-26 00:00:00  20.124286      76.831429  21.620952\n",
       "2020-04-26 01:00:00 2020-04-26 01:00:00  21.620952      79.454286  24.160476\n",
       "2020-04-26 02:00:00 2020-04-26 02:00:00  24.160476      80.815238  25.430000\n",
       "2020-04-26 03:00:00 2020-04-26 03:00:00  25.430000      80.139524  25.989524\n",
       "2020-04-26 04:00:00 2020-04-26 04:00:00  25.989524      77.743333  23.706667\n",
       "...                                 ...        ...            ...        ...\n",
       "2020-04-30 18:00:00 2020-04-30 18:00:00  37.653043      70.024783  41.697391\n",
       "2020-04-30 19:00:00 2020-04-30 19:00:00  41.697391      73.581739  48.421739\n",
       "2020-04-30 20:00:00 2020-04-30 20:00:00  48.421739      77.083478  51.913913\n",
       "2020-04-30 21:00:00 2020-04-30 21:00:00  51.913913      79.922609  55.002609\n",
       "2020-04-30 22:00:00 2020-04-30 22:00:00  55.002609      82.450000  54.606087\n",
       "\n",
       "[119 rows x 4 columns]"
      ]
     },
     "execution_count": 8,
     "metadata": {},
     "output_type": "execute_result"
    }
   ],
   "source": [
    "dataset_for_prediction['datetime_from'] = pd.to_datetime(dataset_for_prediction['datetime_from'])\n",
    "dataset_for_prediction.index = dataset_for_prediction['datetime_from']\n",
    "dataset_for_prediction"
   ]
  },
  {
   "cell_type": "markdown",
   "metadata": {},
   "source": [
    "### Rysowanie wykresów na podstawie danych"
   ]
  },
  {
   "cell_type": "markdown",
   "metadata": {},
   "source": [
    "PM10"
   ]
  },
  {
   "cell_type": "code",
   "execution_count": 9,
   "metadata": {},
   "outputs": [
    {
     "data": {
      "image/png": "[encoded data removed]",
      "text/plain": [
       "<Figure size 1080x144 with 1 Axes>"
      ]
     },
     "metadata": {
      "needs_background": "light"
     },
     "output_type": "display_data"
    }
   ],
   "source": [
    "dataset_for_prediction['avg(pm10)'].plot(color='green', figsize=(15, 2))\n",
    "plt.legend(['avg(pm10)'])\n",
    "plt.title('PM10')\n",
    "plt.show()"
   ]
  },
  {
   "cell_type": "markdown",
   "metadata": {},
   "source": [
    "Humidity"
   ]
  },
  {
   "cell_type": "code",
   "execution_count": 10,
   "metadata": {},
   "outputs": [
    {
     "data": {
      "image/png": "[encoded data removed]",
      "text/plain": [
       "<Figure size 1080x144 with 1 Axes>"
      ]
     },
     "metadata": {
      "needs_background": "light"
     },
     "output_type": "display_data"
    }
   ],
   "source": [
    "dataset_for_prediction['avg(humidity)'].plot(color='blue', figsize=(15, 2))\n",
    "plt.legend(['avg(humidity)'])\n",
    "plt.title('Humidity')\n",
    "plt.show()"
   ]
  },
  {
   "cell_type": "markdown",
   "metadata": {},
   "source": [
    "### Normalizacja danych wejściowych oraz target features"
   ]
  },
  {
   "cell_type": "code",
   "execution_count": 11,
   "metadata": {},
   "outputs": [
    {
     "data": {
      "text/html": [
       "<div>\n",
       "<style scoped>\n",
       "    .dataframe tbody tr th:only-of-type {\n",
       "        vertical-align: middle;\n",
       "    }\n",
       "\n",
       "    .dataframe tbody tr th {\n",
       "        vertical-align: top;\n",
       "    }\n",
       "\n",
       "    .dataframe thead th {\n",
       "        text-align: right;\n",
       "    }\n",
       "</style>\n",
       "<table border=\"1\" class=\"dataframe\">\n",
       "  <thead>\n",
       "    <tr style=\"text-align: right;\">\n",
       "      <th></th>\n",
       "      <th>0</th>\n",
       "      <th>1</th>\n",
       "    </tr>\n",
       "  </thead>\n",
       "  <tbody>\n",
       "    <tr>\n",
       "      <th>0</th>\n",
       "      <td>0.190121</td>\n",
       "      <td>0.693613</td>\n",
       "    </tr>\n",
       "    <tr>\n",
       "      <th>1</th>\n",
       "      <td>0.213972</td>\n",
       "      <td>0.730001</td>\n",
       "    </tr>\n",
       "    <tr>\n",
       "      <th>2</th>\n",
       "      <td>0.254443</td>\n",
       "      <td>0.748883</td>\n",
       "    </tr>\n",
       "    <tr>\n",
       "      <th>3</th>\n",
       "      <td>0.274674</td>\n",
       "      <td>0.739508</td>\n",
       "    </tr>\n",
       "    <tr>\n",
       "      <th>4</th>\n",
       "      <td>0.283591</td>\n",
       "      <td>0.706264</td>\n",
       "    </tr>\n",
       "    <tr>\n",
       "      <th>...</th>\n",
       "      <td>...</td>\n",
       "      <td>...</td>\n",
       "    </tr>\n",
       "    <tr>\n",
       "      <th>114</th>\n",
       "      <td>0.469465</td>\n",
       "      <td>0.599180</td>\n",
       "    </tr>\n",
       "    <tr>\n",
       "      <th>115</th>\n",
       "      <td>0.533917</td>\n",
       "      <td>0.648528</td>\n",
       "    </tr>\n",
       "    <tr>\n",
       "      <th>116</th>\n",
       "      <td>0.641079</td>\n",
       "      <td>0.697110</td>\n",
       "    </tr>\n",
       "    <tr>\n",
       "      <th>117</th>\n",
       "      <td>0.696731</td>\n",
       "      <td>0.736499</td>\n",
       "    </tr>\n",
       "    <tr>\n",
       "      <th>118</th>\n",
       "      <td>0.745954</td>\n",
       "      <td>0.771562</td>\n",
       "    </tr>\n",
       "  </tbody>\n",
       "</table>\n",
       "<p>119 rows × 2 columns</p>\n",
       "</div>"
      ],
      "text/plain": [
       "            0         1\n",
       "0    0.190121  0.693613\n",
       "1    0.213972  0.730001\n",
       "2    0.254443  0.748883\n",
       "3    0.274674  0.739508\n",
       "4    0.283591  0.706264\n",
       "..        ...       ...\n",
       "114  0.469465  0.599180\n",
       "115  0.533917  0.648528\n",
       "116  0.641079  0.697110\n",
       "117  0.696731  0.736499\n",
       "118  0.745954  0.771562\n",
       "\n",
       "[119 rows x 2 columns]"
      ]
     },
     "execution_count": 11,
     "metadata": {},
     "output_type": "execute_result"
    }
   ],
   "source": [
    "sc_in = MinMaxScaler(feature_range=(0, 1))\n",
    "scaled_input = sc_in.fit_transform(dataset_for_prediction[['avg(pm10)', 'avg(humidity)']])\n",
    "scaled_input = pd.DataFrame(scaled_input)\n",
    "X = scaled_input\n",
    "X"
   ]
  },
  {
   "cell_type": "code",
   "execution_count": 12,
   "metadata": {},
   "outputs": [
    {
     "data": {
      "text/html": [
       "<div>\n",
       "<style scoped>\n",
       "    .dataframe tbody tr th:only-of-type {\n",
       "        vertical-align: middle;\n",
       "    }\n",
       "\n",
       "    .dataframe tbody tr th {\n",
       "        vertical-align: top;\n",
       "    }\n",
       "\n",
       "    .dataframe thead th {\n",
       "        text-align: right;\n",
       "    }\n",
       "</style>\n",
       "<table border=\"1\" class=\"dataframe\">\n",
       "  <thead>\n",
       "    <tr style=\"text-align: right;\">\n",
       "      <th></th>\n",
       "      <th>0</th>\n",
       "    </tr>\n",
       "  </thead>\n",
       "  <tbody>\n",
       "    <tr>\n",
       "      <th>0</th>\n",
       "      <td>0.213972</td>\n",
       "    </tr>\n",
       "    <tr>\n",
       "      <th>1</th>\n",
       "      <td>0.254443</td>\n",
       "    </tr>\n",
       "    <tr>\n",
       "      <th>2</th>\n",
       "      <td>0.274674</td>\n",
       "    </tr>\n",
       "    <tr>\n",
       "      <th>3</th>\n",
       "      <td>0.283591</td>\n",
       "    </tr>\n",
       "    <tr>\n",
       "      <th>4</th>\n",
       "      <td>0.247211</td>\n",
       "    </tr>\n",
       "    <tr>\n",
       "      <th>...</th>\n",
       "      <td>...</td>\n",
       "    </tr>\n",
       "    <tr>\n",
       "      <th>114</th>\n",
       "      <td>0.533917</td>\n",
       "    </tr>\n",
       "    <tr>\n",
       "      <th>115</th>\n",
       "      <td>0.641079</td>\n",
       "    </tr>\n",
       "    <tr>\n",
       "      <th>116</th>\n",
       "      <td>0.696731</td>\n",
       "    </tr>\n",
       "    <tr>\n",
       "      <th>117</th>\n",
       "      <td>0.745954</td>\n",
       "    </tr>\n",
       "    <tr>\n",
       "      <th>118</th>\n",
       "      <td>0.739635</td>\n",
       "    </tr>\n",
       "  </tbody>\n",
       "</table>\n",
       "<p>119 rows × 1 columns</p>\n",
       "</div>"
      ],
      "text/plain": [
       "            0\n",
       "0    0.213972\n",
       "1    0.254443\n",
       "2    0.274674\n",
       "3    0.283591\n",
       "4    0.247211\n",
       "..        ...\n",
       "114  0.533917\n",
       "115  0.641079\n",
       "116  0.696731\n",
       "117  0.745954\n",
       "118  0.739635\n",
       "\n",
       "[119 rows x 1 columns]"
      ]
     },
     "execution_count": 12,
     "metadata": {},
     "output_type": "execute_result"
    }
   ],
   "source": [
    "sc_out = MinMaxScaler(feature_range=(0, 1))\n",
    "scaler_output = sc_out.fit_transform(dataset_for_prediction[['actual']])\n",
    "scaler_output = pd.DataFrame(scaler_output)\n",
    "y = scaler_output\n",
    "y"
   ]
  },
  {
   "cell_type": "markdown",
   "metadata": {},
   "source": [
    "### Zmiana nazw kolumn dla danych wejściowych i targetów"
   ]
  },
  {
   "cell_type": "code",
   "execution_count": 13,
   "metadata": {},
   "outputs": [],
   "source": [
    "X.rename(columns={0: 'pm10', 1: 'humidity'}, inplace=True)\n",
    "y.rename(columns={0: 'pm10 prediction'}, inplace=True)\n",
    "y.index=dataset_for_prediction.index\n",
    "X.index=dataset_for_prediction.index"
   ]
  },
  {
   "cell_type": "code",
   "execution_count": 14,
   "metadata": {},
   "outputs": [
    {
     "data": {
      "text/html": [
       "<div>\n",
       "<style scoped>\n",
       "    .dataframe tbody tr th:only-of-type {\n",
       "        vertical-align: middle;\n",
       "    }\n",
       "\n",
       "    .dataframe tbody tr th {\n",
       "        vertical-align: top;\n",
       "    }\n",
       "\n",
       "    .dataframe thead th {\n",
       "        text-align: right;\n",
       "    }\n",
       "</style>\n",
       "<table border=\"1\" class=\"dataframe\">\n",
       "  <thead>\n",
       "    <tr style=\"text-align: right;\">\n",
       "      <th></th>\n",
       "      <th>pm10</th>\n",
       "      <th>humidity</th>\n",
       "    </tr>\n",
       "    <tr>\n",
       "      <th>datetime_from</th>\n",
       "      <th></th>\n",
       "      <th></th>\n",
       "    </tr>\n",
       "  </thead>\n",
       "  <tbody>\n",
       "    <tr>\n",
       "      <th>2020-04-26 00:00:00</th>\n",
       "      <td>0.190121</td>\n",
       "      <td>0.693613</td>\n",
       "    </tr>\n",
       "    <tr>\n",
       "      <th>2020-04-26 01:00:00</th>\n",
       "      <td>0.213972</td>\n",
       "      <td>0.730001</td>\n",
       "    </tr>\n",
       "    <tr>\n",
       "      <th>2020-04-26 02:00:00</th>\n",
       "      <td>0.254443</td>\n",
       "      <td>0.748883</td>\n",
       "    </tr>\n",
       "    <tr>\n",
       "      <th>2020-04-26 03:00:00</th>\n",
       "      <td>0.274674</td>\n",
       "      <td>0.739508</td>\n",
       "    </tr>\n",
       "    <tr>\n",
       "      <th>2020-04-26 04:00:00</th>\n",
       "      <td>0.283591</td>\n",
       "      <td>0.706264</td>\n",
       "    </tr>\n",
       "    <tr>\n",
       "      <th>...</th>\n",
       "      <td>...</td>\n",
       "      <td>...</td>\n",
       "    </tr>\n",
       "    <tr>\n",
       "      <th>2020-04-30 18:00:00</th>\n",
       "      <td>0.469465</td>\n",
       "      <td>0.599180</td>\n",
       "    </tr>\n",
       "    <tr>\n",
       "      <th>2020-04-30 19:00:00</th>\n",
       "      <td>0.533917</td>\n",
       "      <td>0.648528</td>\n",
       "    </tr>\n",
       "    <tr>\n",
       "      <th>2020-04-30 20:00:00</th>\n",
       "      <td>0.641079</td>\n",
       "      <td>0.697110</td>\n",
       "    </tr>\n",
       "    <tr>\n",
       "      <th>2020-04-30 21:00:00</th>\n",
       "      <td>0.696731</td>\n",
       "      <td>0.736499</td>\n",
       "    </tr>\n",
       "    <tr>\n",
       "      <th>2020-04-30 22:00:00</th>\n",
       "      <td>0.745954</td>\n",
       "      <td>0.771562</td>\n",
       "    </tr>\n",
       "  </tbody>\n",
       "</table>\n",
       "<p>119 rows × 2 columns</p>\n",
       "</div>"
      ],
      "text/plain": [
       "                         pm10  humidity\n",
       "datetime_from                          \n",
       "2020-04-26 00:00:00  0.190121  0.693613\n",
       "2020-04-26 01:00:00  0.213972  0.730001\n",
       "2020-04-26 02:00:00  0.254443  0.748883\n",
       "2020-04-26 03:00:00  0.274674  0.739508\n",
       "2020-04-26 04:00:00  0.283591  0.706264\n",
       "...                       ...       ...\n",
       "2020-04-30 18:00:00  0.469465  0.599180\n",
       "2020-04-30 19:00:00  0.533917  0.648528\n",
       "2020-04-30 20:00:00  0.641079  0.697110\n",
       "2020-04-30 21:00:00  0.696731  0.736499\n",
       "2020-04-30 22:00:00  0.745954  0.771562\n",
       "\n",
       "[119 rows x 2 columns]"
      ]
     },
     "execution_count": 14,
     "metadata": {},
     "output_type": "execute_result"
    }
   ],
   "source": [
    "X"
   ]
  },
  {
   "cell_type": "code",
   "execution_count": 15,
   "metadata": {},
   "outputs": [
    {
     "data": {
      "text/html": [
       "<div>\n",
       "<style scoped>\n",
       "    .dataframe tbody tr th:only-of-type {\n",
       "        vertical-align: middle;\n",
       "    }\n",
       "\n",
       "    .dataframe tbody tr th {\n",
       "        vertical-align: top;\n",
       "    }\n",
       "\n",
       "    .dataframe thead th {\n",
       "        text-align: right;\n",
       "    }\n",
       "</style>\n",
       "<table border=\"1\" class=\"dataframe\">\n",
       "  <thead>\n",
       "    <tr style=\"text-align: right;\">\n",
       "      <th></th>\n",
       "      <th>pm10 prediction</th>\n",
       "    </tr>\n",
       "    <tr>\n",
       "      <th>datetime_from</th>\n",
       "      <th></th>\n",
       "    </tr>\n",
       "  </thead>\n",
       "  <tbody>\n",
       "    <tr>\n",
       "      <th>2020-04-26 00:00:00</th>\n",
       "      <td>0.213972</td>\n",
       "    </tr>\n",
       "    <tr>\n",
       "      <th>2020-04-26 01:00:00</th>\n",
       "      <td>0.254443</td>\n",
       "    </tr>\n",
       "    <tr>\n",
       "      <th>2020-04-26 02:00:00</th>\n",
       "      <td>0.274674</td>\n",
       "    </tr>\n",
       "    <tr>\n",
       "      <th>2020-04-26 03:00:00</th>\n",
       "      <td>0.283591</td>\n",
       "    </tr>\n",
       "    <tr>\n",
       "      <th>2020-04-26 04:00:00</th>\n",
       "      <td>0.247211</td>\n",
       "    </tr>\n",
       "    <tr>\n",
       "      <th>...</th>\n",
       "      <td>...</td>\n",
       "    </tr>\n",
       "    <tr>\n",
       "      <th>2020-04-30 18:00:00</th>\n",
       "      <td>0.533917</td>\n",
       "    </tr>\n",
       "    <tr>\n",
       "      <th>2020-04-30 19:00:00</th>\n",
       "      <td>0.641079</td>\n",
       "    </tr>\n",
       "    <tr>\n",
       "      <th>2020-04-30 20:00:00</th>\n",
       "      <td>0.696731</td>\n",
       "    </tr>\n",
       "    <tr>\n",
       "      <th>2020-04-30 21:00:00</th>\n",
       "      <td>0.745954</td>\n",
       "    </tr>\n",
       "    <tr>\n",
       "      <th>2020-04-30 22:00:00</th>\n",
       "      <td>0.739635</td>\n",
       "    </tr>\n",
       "  </tbody>\n",
       "</table>\n",
       "<p>119 rows × 1 columns</p>\n",
       "</div>"
      ],
      "text/plain": [
       "                     pm10 prediction\n",
       "datetime_from                       \n",
       "2020-04-26 00:00:00         0.213972\n",
       "2020-04-26 01:00:00         0.254443\n",
       "2020-04-26 02:00:00         0.274674\n",
       "2020-04-26 03:00:00         0.283591\n",
       "2020-04-26 04:00:00         0.247211\n",
       "...                              ...\n",
       "2020-04-30 18:00:00         0.533917\n",
       "2020-04-30 19:00:00         0.641079\n",
       "2020-04-30 20:00:00         0.696731\n",
       "2020-04-30 21:00:00         0.745954\n",
       "2020-04-30 22:00:00         0.739635\n",
       "\n",
       "[119 rows x 1 columns]"
      ]
     },
     "execution_count": 15,
     "metadata": {},
     "output_type": "execute_result"
    }
   ],
   "source": [
    "y"
   ]
  },
  {
   "cell_type": "markdown",
   "metadata": {},
   "source": [
    "### Podział datasetu na dane treningowe i testowe"
   ]
  },
  {
   "cell_type": "code",
   "execution_count": 16,
   "metadata": {},
   "outputs": [],
   "source": [
    "train_size = int(len(dataset) * 0.90)\n",
    "test_size = int(len(dataset)) - train_size\n",
    "\n",
    "train_X, train_y = X[:train_size].dropna(), y[:train_size].dropna()\n",
    "test_X, test_y = X[train_size:].dropna(), y[train_size:].dropna()"
   ]
  },
  {
   "cell_type": "markdown",
   "metadata": {},
   "source": [
    "### Dekompoyzcja szeregu czasowego na trend, sezonowość/cykliczność, szum"
   ]
  },
  {
   "cell_type": "code",
   "execution_count": 17,
   "metadata": {},
   "outputs": [
    {
     "data": {
      "image/png": "[encoded data removed]",
      "text/plain": [
       "<Figure size 1152x720 with 4 Axes>"
      ]
     },
     "metadata": {
      "needs_background": "light"
     },
     "output_type": "display_data"
    }
   ],
   "source": [
    "seas_d=sm.tsa.seasonal_decompose(X['pm10'],model='add',period=24);\n",
    "fig=seas_d.plot()\n",
    "fig.set_figheight(10)\n",
    "fig.set_figwidth(16)\n",
    "plt.show()"
   ]
  },
  {
   "cell_type": "markdown",
   "metadata": {},
   "source": [
    "Additive model = Trend + Seasonality + Random Noise"
   ]
  },
  {
   "cell_type": "markdown",
   "metadata": {},
   "source": [
    "### Sprawdzamy stacjonarość danych poprzez Augmented Dickey Fuller(ADF) test"
   ]
  },
  {
   "cell_type": "markdown",
   "metadata": {},
   "source": [
    "Jeśli sprawimy że dane będą stacjonare to model będzie wykonywał przewidywania na podstawie tego że średnia oraz wariancją będą takie są przez przyszłe okresy."
   ]
  },
  {
   "cell_type": "code",
   "execution_count": 18,
   "metadata": {},
   "outputs": [],
   "source": [
    "def test_adf(series, title=''):\n",
    "    dfout={}\n",
    "    dftest=sm.tsa.adfuller(series.dropna(), autolag='AIC', regression='ct')\n",
    "    for key,val in dftest[4].items():\n",
    "        dfout[f'critical value ({key})']=val\n",
    "    if dftest[1]<=0.05:\n",
    "        print(\"Strong evidence against Null Hypothesis\")\n",
    "        print(\"Reject Null Hypothesis - Data is Stationary\")\n",
    "        print(\"Data is Stationary\", title)\n",
    "    else:\n",
    "        print(\"Strong evidence for  Null Hypothesis\")\n",
    "        print(\"Accept Null Hypothesis - Data is not Stationary\")\n",
    "        print(\"Data is NOT Stationary for\", title)"
   ]
  },
  {
   "cell_type": "code",
   "execution_count": 19,
   "metadata": {},
   "outputs": [
    {
     "name": "stdout",
     "output_type": "stream",
     "text": [
      "Strong evidence against Null Hypothesis\n",
      "Reject Null Hypothesis - Data is Stationary\n",
      "Data is Stationary pm10\n"
     ]
    }
   ],
   "source": [
    "y_test=y['pm10 prediction'][:train_size].dropna()\n",
    "test_adf(y_test, 'pm10')"
   ]
  },
  {
   "cell_type": "markdown",
   "metadata": {},
   "source": [
    "### Dane stacjonarne - różnicowanie"
   ]
  },
  {
   "cell_type": "code",
   "execution_count": 20,
   "metadata": {},
   "outputs": [
    {
     "name": "stdout",
     "output_type": "stream",
     "text": [
      "Strong evidence against Null Hypothesis\n",
      "Reject Null Hypothesis - Data is Stationary\n",
      "Data is Stationary pm10\n"
     ]
    }
   ],
   "source": [
    "test_adf(y_test.diff(), 'pm10')"
   ]
  },
  {
   "cell_type": "markdown",
   "metadata": {},
   "source": [
    "### Budowanie modelu\n",
    "\n",
    "ACF plot: wykres słupkowy współczynników korelacji między szeregiem czasowym a jego własnym opóźnieniem\n",
    "\n",
    "PACF plot: wykres słupkowy współczynników częściowej korelacji między szeregiem czasowym a jego własnym opóźnieniem"
   ]
  },
  {
   "cell_type": "code",
   "execution_count": 21,
   "metadata": {},
   "outputs": [
    {
     "name": "stderr",
     "output_type": "stream",
     "text": [
      "/usr/local/lib/python3.7/site-packages/statsmodels/regression/linear_model.py:1406: RuntimeWarning: invalid value encountered in sqrt\n",
      "  return rho, np.sqrt(sigmasq)\n"
     ]
    },
    {
     "data": {
      "image/png": "[encoded data removed]",
      "text/plain": [
       "<Figure size 720x360 with 2 Axes>"
      ]
     },
     "metadata": {
      "needs_background": "light"
     },
     "output_type": "display_data"
    }
   ],
   "source": [
    "fig,ax= plt.subplots(2,1, figsize=(10,5))\n",
    "fig=sm.tsa.graphics.plot_acf(y_test, lags=50, ax=ax[0])\n",
    "fig=sm.tsa.graphics.plot_pacf(y_test, lags=50, ax=ax[1])\n",
    "plt.show()"
   ]
  },
  {
   "cell_type": "markdown",
   "metadata": {},
   "source": [
    "### Funkcja auto_arima która dobiera najlepsze parametry modelu ARIMA do szeregu czasowego.\n",
    "\n",
    "Losowo wybiera i sprawdza kolejne paraemtry dobierając w ten sposób te najlepsze. Próbuje zminimalizować partykę AIC (Akaike Information Criterion) - dobiera parametry dla ktorych jest najmniejsza."
   ]
  },
  {
   "cell_type": "code",
   "execution_count": 22,
   "metadata": {},
   "outputs": [
    {
     "name": "stdout",
     "output_type": "stream",
     "text": [
      "Performing stepwise search to minimize aic\n",
      "Fit ARIMA(1,1,1)x(0,0,0,0) [intercept=True]; AIC=-180.491, BIC=-165.167, Time=0.155 seconds\n",
      "Fit ARIMA(0,1,0)x(0,0,0,0) [intercept=True]; AIC=-179.967, BIC=-169.752, Time=0.034 seconds\n",
      "Fit ARIMA(1,1,0)x(0,0,0,0) [intercept=True]; AIC=-179.324, BIC=-166.555, Time=0.089 seconds\n",
      "Fit ARIMA(0,1,1)x(0,0,0,0) [intercept=True]; AIC=-181.869, BIC=-169.100, Time=0.095 seconds\n",
      "Fit ARIMA(0,1,0)x(0,0,0,0) [intercept=False]; AIC=-181.831, BIC=-174.169, Time=0.032 seconds\n",
      "Fit ARIMA(0,1,2)x(0,0,0,0) [intercept=True]; AIC=-180.983, BIC=-165.659, Time=0.131 seconds\n",
      "Fit ARIMA(1,1,2)x(0,0,0,0) [intercept=True]; AIC=-180.241, BIC=-162.364, Time=0.254 seconds\n",
      "Total fit time: 0.796 seconds\n"
     ]
    }
   ],
   "source": [
    "step_wise=auto_arima(train_y, \n",
    " exogenous= train_X,\n",
    " start_p=1, start_q=1, \n",
    " max_p=7, max_q=7, \n",
    " d=1, max_d=7,\n",
    " trace=True, \n",
    " error_action='ignore', \n",
    " suppress_warnings=True, \n",
    " stepwise=True)"
   ]
  },
  {
   "cell_type": "code",
   "execution_count": 23,
   "metadata": {},
   "outputs": [
    {
     "data": {
      "text/html": [
       "<table class=\"simpletable\">\n",
       "<caption>SARIMAX Results</caption>\n",
       "<tr>\n",
       "  <th>Dep. Variable:</th>           <td>y</td>        <th>  No. Observations:  </th>    <td>96</td>   \n",
       "</tr>\n",
       "<tr>\n",
       "  <th>Model:</th>           <td>SARIMAX(0, 1, 1)</td> <th>  Log Likelihood     </th>  <td>95.934</td> \n",
       "</tr>\n",
       "<tr>\n",
       "  <th>Date:</th>            <td>Mon, 04 May 2020</td> <th>  AIC                </th> <td>-181.869</td>\n",
       "</tr>\n",
       "<tr>\n",
       "  <th>Time:</th>                <td>10:59:11</td>     <th>  BIC                </th> <td>-169.100</td>\n",
       "</tr>\n",
       "<tr>\n",
       "  <th>Sample:</th>             <td>04-26-2020</td>    <th>  HQIC               </th> <td>-176.709</td>\n",
       "</tr>\n",
       "<tr>\n",
       "  <th></th>                   <td>- 04-29-2020</td>   <th>                     </th>     <td> </td>   \n",
       "</tr>\n",
       "<tr>\n",
       "  <th>Covariance Type:</th>        <td>opg</td>       <th>                     </th>     <td> </td>   \n",
       "</tr>\n",
       "</table>\n",
       "<table class=\"simpletable\">\n",
       "<tr>\n",
       "      <td></td>         <th>coef</th>     <th>std err</th>      <th>z</th>      <th>P>|z|</th>  <th>[0.025</th>    <th>0.975]</th>  \n",
       "</tr>\n",
       "<tr>\n",
       "  <th>intercept</th> <td>    0.0049</td> <td>    0.016</td> <td>    0.307</td> <td> 0.759</td> <td>   -0.026</td> <td>    0.036</td>\n",
       "</tr>\n",
       "<tr>\n",
       "  <th>pm10</th>      <td>   -0.2189</td> <td>    0.387</td> <td>   -0.565</td> <td> 0.572</td> <td>   -0.978</td> <td>    0.540</td>\n",
       "</tr>\n",
       "<tr>\n",
       "  <th>humidity</th>  <td>    1.0951</td> <td>    0.447</td> <td>    2.449</td> <td> 0.014</td> <td>    0.219</td> <td>    1.972</td>\n",
       "</tr>\n",
       "<tr>\n",
       "  <th>ma.L1</th>     <td>    0.4367</td> <td>    0.372</td> <td>    1.172</td> <td> 0.241</td> <td>   -0.293</td> <td>    1.167</td>\n",
       "</tr>\n",
       "<tr>\n",
       "  <th>sigma2</th>    <td>    0.0078</td> <td>    0.001</td> <td>   11.067</td> <td> 0.000</td> <td>    0.006</td> <td>    0.009</td>\n",
       "</tr>\n",
       "</table>\n",
       "<table class=\"simpletable\">\n",
       "<tr>\n",
       "  <th>Ljung-Box (Q):</th>          <td>56.14</td> <th>  Jarque-Bera (JB):  </th> <td>213.07</td>\n",
       "</tr>\n",
       "<tr>\n",
       "  <th>Prob(Q):</th>                <td>0.05</td>  <th>  Prob(JB):          </th>  <td>0.00</td> \n",
       "</tr>\n",
       "<tr>\n",
       "  <th>Heteroskedasticity (H):</th> <td>1.74</td>  <th>  Skew:              </th>  <td>0.39</td> \n",
       "</tr>\n",
       "<tr>\n",
       "  <th>Prob(H) (two-sided):</th>    <td>0.12</td>  <th>  Kurtosis:          </th>  <td>10.29</td>\n",
       "</tr>\n",
       "</table><br/><br/>Warnings:<br/>[1] Covariance matrix calculated using the outer product of gradients (complex-step)."
      ],
      "text/plain": [
       "<class 'statsmodels.iolib.summary.Summary'>\n",
       "\"\"\"\n",
       "                               SARIMAX Results                                \n",
       "==============================================================================\n",
       "Dep. Variable:                      y   No. Observations:                   96\n",
       "Model:               SARIMAX(0, 1, 1)   Log Likelihood                  95.934\n",
       "Date:                Mon, 04 May 2020   AIC                           -181.869\n",
       "Time:                        10:59:11   BIC                           -169.100\n",
       "Sample:                    04-26-2020   HQIC                          -176.709\n",
       "                         - 04-29-2020                                         \n",
       "Covariance Type:                  opg                                         \n",
       "==============================================================================\n",
       "                 coef    std err          z      P>|z|      [0.025      0.975]\n",
       "------------------------------------------------------------------------------\n",
       "intercept      0.0049      0.016      0.307      0.759      -0.026       0.036\n",
       "pm10          -0.2189      0.387     -0.565      0.572      -0.978       0.540\n",
       "humidity       1.0951      0.447      2.449      0.014       0.219       1.972\n",
       "ma.L1          0.4367      0.372      1.172      0.241      -0.293       1.167\n",
       "sigma2         0.0078      0.001     11.067      0.000       0.006       0.009\n",
       "===================================================================================\n",
       "Ljung-Box (Q):                       56.14   Jarque-Bera (JB):               213.07\n",
       "Prob(Q):                              0.05   Prob(JB):                         0.00\n",
       "Heteroskedasticity (H):               1.74   Skew:                             0.39\n",
       "Prob(H) (two-sided):                  0.12   Kurtosis:                        10.29\n",
       "===================================================================================\n",
       "\n",
       "Warnings:\n",
       "[1] Covariance matrix calculated using the outer product of gradients (complex-step).\n",
       "\"\"\""
      ]
     },
     "execution_count": 23,
     "metadata": {},
     "output_type": "execute_result"
    }
   ],
   "source": [
    "step_wise.summary()"
   ]
  },
  {
   "cell_type": "markdown",
   "metadata": {},
   "source": [
    "Zasugerowany został SARIMAX oraz wartości dla p,d,q wynoszące odpowiednio 0,1,1."
   ]
  },
  {
   "cell_type": "markdown",
   "metadata": {},
   "source": [
    "### Trenowanie modelu"
   ]
  },
  {
   "cell_type": "code",
   "execution_count": 24,
   "metadata": {
    "scrolled": true
   },
   "outputs": [
    {
     "name": "stderr",
     "output_type": "stream",
     "text": [
      "/usr/local/lib/python3.7/site-packages/statsmodels/tsa/base/tsa_model.py:162: ValueWarning: No frequency information was provided, so inferred frequency H will be used.\n",
      "  % freq, ValueWarning)\n",
      "/usr/local/lib/python3.7/site-packages/statsmodels/tsa/base/tsa_model.py:162: ValueWarning: No frequency information was provided, so inferred frequency H will be used.\n",
      "  % freq, ValueWarning)\n"
     ]
    }
   ],
   "source": [
    "model = SARIMAX(train_y, exog=train_X, order=(0,1,1), enforce_invertibility=False, enforce_stationarity=False)"
   ]
  },
  {
   "cell_type": "code",
   "execution_count": 25,
   "metadata": {},
   "outputs": [],
   "source": [
    "results = model.fit()"
   ]
  },
  {
   "cell_type": "markdown",
   "metadata": {},
   "source": [
    "### Predykcja"
   ]
  },
  {
   "cell_type": "markdown",
   "metadata": {},
   "source": [
    "predict()\n",
    "\n",
    "podajemy koniec oraz początek wraz ze zmienną exog, na podstawie której dokonana zostanie predykcja"
   ]
  },
  {
   "cell_type": "code",
   "execution_count": 26,
   "metadata": {},
   "outputs": [],
   "source": [
    "predictions= results.predict(start=train_size, end=train_size+test_size+(steps)-1,exog=test_X)"
   ]
  },
  {
   "cell_type": "markdown",
   "metadata": {},
   "source": [
    "### Stworzenie wykresu dla uzyskanej predykcji "
   ]
  },
  {
   "cell_type": "code",
   "execution_count": 27,
   "metadata": {},
   "outputs": [],
   "source": [
    "act= pd.DataFrame(scaler_output.iloc[train_size:, 0])"
   ]
  },
  {
   "cell_type": "code",
   "execution_count": 28,
   "metadata": {},
   "outputs": [],
   "source": [
    "predictions=pd.DataFrame(predictions)\n",
    "predictions.reset_index(drop=True, inplace=True)\n",
    "predictions.index=test_X.index\n",
    "predictions['actual'] = act['pm10 prediction']\n",
    "predictions.rename(columns={0:'Pred'}, inplace=True)"
   ]
  },
  {
   "cell_type": "code",
   "execution_count": 29,
   "metadata": {},
   "outputs": [
    {
     "data": {
      "text/plain": [
       "<matplotlib.axes._subplots.AxesSubplot at 0x127901790>"
      ]
     },
     "execution_count": 29,
     "metadata": {},
     "output_type": "execute_result"
    },
    {
     "data": {
      "image/png": "[encoded data removed]",
      "text/plain": [
       "<Figure size 1440x576 with 1 Axes>"
      ]
     },
     "metadata": {
      "needs_background": "light"
     },
     "output_type": "display_data"
    }
   ],
   "source": [
    "predictions['actual'].plot(figsize=(20,8), legend=True, color='blue')\n",
    "predictions['Pred'].plot(legend=True, color='red', figsize=(20,8))"
   ]
  },
  {
   "cell_type": "markdown",
   "metadata": {},
   "source": [
    "### Ewaluacja błędu"
   ]
  },
  {
   "cell_type": "code",
   "execution_count": 30,
   "metadata": {},
   "outputs": [
    {
     "data": {
      "text/plain": [
       "0.1071906411295754"
      ]
     },
     "execution_count": 30,
     "metadata": {},
     "output_type": "execute_result"
    }
   ],
   "source": [
    "from statsmodels.tools.eval_measures import rmse\n",
    "error=rmse(predictions['Pred'], predictions['actual'])\n",
    "error"
   ]
  },
  {
   "cell_type": "markdown",
   "metadata": {},
   "source": [
    "### Skalowanie do oryginalnych wartości"
   ]
  },
  {
   "cell_type": "code",
   "execution_count": 31,
   "metadata": {},
   "outputs": [],
   "source": [
    "trainPredict = sc_out.inverse_transform(predictions[['Pred']])\n",
    "testPredict = sc_out.inverse_transform(predictions[['actual']])"
   ]
  },
  {
   "cell_type": "code",
   "execution_count": null,
   "metadata": {},
   "outputs": [],
   "source": []
  }
 ],
 "metadata": {
  "kernelspec": {
   "display_name": "Python 3",
   "language": "python",
   "name": "python3"
  },
  "language_info": {
   "codemirror_mode": {
    "name": "ipython",
    "version": 3
   },
   "file_extension": ".py",
   "mimetype": "text/x-python",
   "name": "python",
   "nbconvert_exporter": "python",
   "pygments_lexer": "ipython3",
   "version": "3.7.5"
  }
 },
 "nbformat": 4,
 "nbformat_minor": 2
}
