{
 "cells": [
  {
   "cell_type": "markdown",
   "metadata": {},
   "source": [
    "# Szeregi czasowe\n",
    "\n",
    "Antoni Pięta\n",
    "\n",
    "Jaub Ziarko"
   ]
  },
  {
   "cell_type": "code",
   "execution_count": 1,
   "metadata": {},
   "outputs": [],
   "source": [
    "from pandas import read_csv\n",
    "import pandas as pd\n",
    "from matplotlib import pyplot as plt\n",
    "from sklearn.preprocessing import MinMaxScaler\n",
    "import statsmodels.api as sm\n",
    "from statsmodels.tsa.stattools import adfuller\n",
    "from pmdarima.arima import auto_arima\n",
    "from statsmodels.tsa.statespace.sarimax import SARIMAX"
   ]
  },
  {
   "cell_type": "markdown",
   "metadata": {},
   "source": [
    "### Ładowanie datasetu"
   ]
  },
  {
   "cell_type": "code",
   "execution_count": 2,
   "metadata": {},
   "outputs": [],
   "source": [
    "data_filename = 'result3.csv'\n",
    "dataset = read_csv(data_filename)"
   ]
  },
  {
   "cell_type": "markdown",
   "metadata": {},
   "source": [
    "### Klumny i przykładowane dane z datasetu"
   ]
  },
  {
   "cell_type": "code",
   "execution_count": 3,
   "metadata": {},
   "outputs": [
    {
     "data": {
      "text/html": [
       "<div>\n",
       "<style scoped>\n",
       "    .dataframe tbody tr th:only-of-type {\n",
       "        vertical-align: middle;\n",
       "    }\n",
       "\n",
       "    .dataframe tbody tr th {\n",
       "        vertical-align: top;\n",
       "    }\n",
       "\n",
       "    .dataframe thead th {\n",
       "        text-align: right;\n",
       "    }\n",
       "</style>\n",
       "<table border=\"1\" class=\"dataframe\">\n",
       "  <thead>\n",
       "    <tr style=\"text-align: right;\">\n",
       "      <th></th>\n",
       "      <th>datetime_from</th>\n",
       "      <th>avg(pm10)</th>\n",
       "      <th>avg(humidity)</th>\n",
       "    </tr>\n",
       "  </thead>\n",
       "  <tbody>\n",
       "    <tr>\n",
       "      <th>0</th>\n",
       "      <td>2020-04-20 00:00:00</td>\n",
       "      <td>26.2025</td>\n",
       "      <td>68.8590</td>\n",
       "    </tr>\n",
       "    <tr>\n",
       "      <th>1</th>\n",
       "      <td>2020-04-20 01:00:00</td>\n",
       "      <td>26.4570</td>\n",
       "      <td>73.9560</td>\n",
       "    </tr>\n",
       "    <tr>\n",
       "      <th>2</th>\n",
       "      <td>2020-04-20 02:00:00</td>\n",
       "      <td>26.8135</td>\n",
       "      <td>77.6065</td>\n",
       "    </tr>\n",
       "    <tr>\n",
       "      <th>3</th>\n",
       "      <td>2020-04-20 03:00:00</td>\n",
       "      <td>25.6330</td>\n",
       "      <td>79.6785</td>\n",
       "    </tr>\n",
       "    <tr>\n",
       "      <th>4</th>\n",
       "      <td>2020-04-20 04:00:00</td>\n",
       "      <td>28.3240</td>\n",
       "      <td>79.9945</td>\n",
       "    </tr>\n",
       "    <tr>\n",
       "      <th>5</th>\n",
       "      <td>2020-04-20 05:00:00</td>\n",
       "      <td>26.5280</td>\n",
       "      <td>77.7310</td>\n",
       "    </tr>\n",
       "    <tr>\n",
       "      <th>6</th>\n",
       "      <td>2020-04-20 06:00:00</td>\n",
       "      <td>23.4925</td>\n",
       "      <td>72.0375</td>\n",
       "    </tr>\n",
       "  </tbody>\n",
       "</table>\n",
       "</div>"
      ],
      "text/plain": [
       "         datetime_from  avg(pm10)  avg(humidity)\n",
       "0  2020-04-20 00:00:00    26.2025        68.8590\n",
       "1  2020-04-20 01:00:00    26.4570        73.9560\n",
       "2  2020-04-20 02:00:00    26.8135        77.6065\n",
       "3  2020-04-20 03:00:00    25.6330        79.6785\n",
       "4  2020-04-20 04:00:00    28.3240        79.9945\n",
       "5  2020-04-20 05:00:00    26.5280        77.7310\n",
       "6  2020-04-20 06:00:00    23.4925        72.0375"
      ]
     },
     "execution_count": 3,
     "metadata": {},
     "output_type": "execute_result"
    }
   ],
   "source": [
    "dataset.head(7)"
   ]
  },
  {
   "cell_type": "markdown",
   "metadata": {},
   "source": [
    "### Informacje o datasecie"
   ]
  },
  {
   "cell_type": "code",
   "execution_count": 4,
   "metadata": {},
   "outputs": [
    {
     "name": "stdout",
     "output_type": "stream",
     "text": [
      "<class 'pandas.core.frame.DataFrame'>\n",
      "RangeIndex: 264 entries, 0 to 263\n",
      "Data columns (total 3 columns):\n",
      "datetime_from    264 non-null object\n",
      "avg(pm10)        264 non-null float64\n",
      "avg(humidity)    264 non-null float64\n",
      "dtypes: float64(2), object(1)\n",
      "memory usage: 6.3+ KB\n"
     ]
    }
   ],
   "source": [
    "dataset.info()"
   ]
  },
  {
   "cell_type": "markdown",
   "metadata": {},
   "source": [
    "### Dodajemy kolumnę, która ma być używana do przewidywana - `actual`"
   ]
  },
  {
   "cell_type": "code",
   "execution_count": 5,
   "metadata": {},
   "outputs": [],
   "source": [
    "steps = -1\n",
    "dataset_for_prediction = dataset.copy()\n",
    "dataset_for_prediction['actual'] = dataset_for_prediction['avg(pm10)'].shift(steps)"
   ]
  },
  {
   "cell_type": "code",
   "execution_count": 6,
   "metadata": {},
   "outputs": [
    {
     "data": {
      "text/html": [
       "<div>\n",
       "<style scoped>\n",
       "    .dataframe tbody tr th:only-of-type {\n",
       "        vertical-align: middle;\n",
       "    }\n",
       "\n",
       "    .dataframe tbody tr th {\n",
       "        vertical-align: top;\n",
       "    }\n",
       "\n",
       "    .dataframe thead th {\n",
       "        text-align: right;\n",
       "    }\n",
       "</style>\n",
       "<table border=\"1\" class=\"dataframe\">\n",
       "  <thead>\n",
       "    <tr style=\"text-align: right;\">\n",
       "      <th></th>\n",
       "      <th>datetime_from</th>\n",
       "      <th>avg(pm10)</th>\n",
       "      <th>avg(humidity)</th>\n",
       "      <th>actual</th>\n",
       "    </tr>\n",
       "  </thead>\n",
       "  <tbody>\n",
       "    <tr>\n",
       "      <th>249</th>\n",
       "      <td>2020-04-30 09:00:00</td>\n",
       "      <td>46.247391</td>\n",
       "      <td>81.591304</td>\n",
       "      <td>43.043913</td>\n",
       "    </tr>\n",
       "    <tr>\n",
       "      <th>250</th>\n",
       "      <td>2020-04-30 10:00:00</td>\n",
       "      <td>43.043913</td>\n",
       "      <td>75.183478</td>\n",
       "      <td>40.766087</td>\n",
       "    </tr>\n",
       "    <tr>\n",
       "      <th>251</th>\n",
       "      <td>2020-04-30 11:00:00</td>\n",
       "      <td>40.766087</td>\n",
       "      <td>69.480435</td>\n",
       "      <td>37.980435</td>\n",
       "    </tr>\n",
       "    <tr>\n",
       "      <th>252</th>\n",
       "      <td>2020-04-30 12:00:00</td>\n",
       "      <td>37.980435</td>\n",
       "      <td>63.239565</td>\n",
       "      <td>35.386522</td>\n",
       "    </tr>\n",
       "    <tr>\n",
       "      <th>253</th>\n",
       "      <td>2020-04-30 13:00:00</td>\n",
       "      <td>35.386522</td>\n",
       "      <td>58.739565</td>\n",
       "      <td>36.052174</td>\n",
       "    </tr>\n",
       "    <tr>\n",
       "      <th>254</th>\n",
       "      <td>2020-04-30 14:00:00</td>\n",
       "      <td>36.052174</td>\n",
       "      <td>55.763913</td>\n",
       "      <td>37.265652</td>\n",
       "    </tr>\n",
       "    <tr>\n",
       "      <th>255</th>\n",
       "      <td>2020-04-30 15:00:00</td>\n",
       "      <td>37.265652</td>\n",
       "      <td>56.082174</td>\n",
       "      <td>39.158696</td>\n",
       "    </tr>\n",
       "    <tr>\n",
       "      <th>256</th>\n",
       "      <td>2020-04-30 16:00:00</td>\n",
       "      <td>39.158696</td>\n",
       "      <td>60.063043</td>\n",
       "      <td>37.452609</td>\n",
       "    </tr>\n",
       "    <tr>\n",
       "      <th>257</th>\n",
       "      <td>2020-04-30 17:00:00</td>\n",
       "      <td>37.452609</td>\n",
       "      <td>65.129130</td>\n",
       "      <td>37.653043</td>\n",
       "    </tr>\n",
       "    <tr>\n",
       "      <th>258</th>\n",
       "      <td>2020-04-30 18:00:00</td>\n",
       "      <td>37.653043</td>\n",
       "      <td>70.024783</td>\n",
       "      <td>41.697391</td>\n",
       "    </tr>\n",
       "    <tr>\n",
       "      <th>259</th>\n",
       "      <td>2020-04-30 19:00:00</td>\n",
       "      <td>41.697391</td>\n",
       "      <td>73.581739</td>\n",
       "      <td>48.421739</td>\n",
       "    </tr>\n",
       "    <tr>\n",
       "      <th>260</th>\n",
       "      <td>2020-04-30 20:00:00</td>\n",
       "      <td>48.421739</td>\n",
       "      <td>77.083478</td>\n",
       "      <td>51.913913</td>\n",
       "    </tr>\n",
       "    <tr>\n",
       "      <th>261</th>\n",
       "      <td>2020-04-30 21:00:00</td>\n",
       "      <td>51.913913</td>\n",
       "      <td>79.922609</td>\n",
       "      <td>55.002609</td>\n",
       "    </tr>\n",
       "    <tr>\n",
       "      <th>262</th>\n",
       "      <td>2020-04-30 22:00:00</td>\n",
       "      <td>55.002609</td>\n",
       "      <td>82.450000</td>\n",
       "      <td>54.606087</td>\n",
       "    </tr>\n",
       "    <tr>\n",
       "      <th>263</th>\n",
       "      <td>2020-04-30 23:00:00</td>\n",
       "      <td>54.606087</td>\n",
       "      <td>85.757826</td>\n",
       "      <td>NaN</td>\n",
       "    </tr>\n",
       "  </tbody>\n",
       "</table>\n",
       "</div>"
      ],
      "text/plain": [
       "           datetime_from  avg(pm10)  avg(humidity)     actual\n",
       "249  2020-04-30 09:00:00  46.247391      81.591304  43.043913\n",
       "250  2020-04-30 10:00:00  43.043913      75.183478  40.766087\n",
       "251  2020-04-30 11:00:00  40.766087      69.480435  37.980435\n",
       "252  2020-04-30 12:00:00  37.980435      63.239565  35.386522\n",
       "253  2020-04-30 13:00:00  35.386522      58.739565  36.052174\n",
       "254  2020-04-30 14:00:00  36.052174      55.763913  37.265652\n",
       "255  2020-04-30 15:00:00  37.265652      56.082174  39.158696\n",
       "256  2020-04-30 16:00:00  39.158696      60.063043  37.452609\n",
       "257  2020-04-30 17:00:00  37.452609      65.129130  37.653043\n",
       "258  2020-04-30 18:00:00  37.653043      70.024783  41.697391\n",
       "259  2020-04-30 19:00:00  41.697391      73.581739  48.421739\n",
       "260  2020-04-30 20:00:00  48.421739      77.083478  51.913913\n",
       "261  2020-04-30 21:00:00  51.913913      79.922609  55.002609\n",
       "262  2020-04-30 22:00:00  55.002609      82.450000  54.606087\n",
       "263  2020-04-30 23:00:00  54.606087      85.757826        NaN"
      ]
     },
     "execution_count": 6,
     "metadata": {},
     "output_type": "execute_result"
    }
   ],
   "source": [
    "dataset_for_prediction.tail(15)"
   ]
  },
  {
   "cell_type": "markdown",
   "metadata": {},
   "source": [
    "### Usuwamy wiersze z wartościami NaN"
   ]
  },
  {
   "cell_type": "code",
   "execution_count": 7,
   "metadata": {},
   "outputs": [
    {
     "data": {
      "text/html": [
       "<div>\n",
       "<style scoped>\n",
       "    .dataframe tbody tr th:only-of-type {\n",
       "        vertical-align: middle;\n",
       "    }\n",
       "\n",
       "    .dataframe tbody tr th {\n",
       "        vertical-align: top;\n",
       "    }\n",
       "\n",
       "    .dataframe thead th {\n",
       "        text-align: right;\n",
       "    }\n",
       "</style>\n",
       "<table border=\"1\" class=\"dataframe\">\n",
       "  <thead>\n",
       "    <tr style=\"text-align: right;\">\n",
       "      <th></th>\n",
       "      <th>datetime_from</th>\n",
       "      <th>avg(pm10)</th>\n",
       "      <th>avg(humidity)</th>\n",
       "      <th>actual</th>\n",
       "    </tr>\n",
       "  </thead>\n",
       "  <tbody>\n",
       "    <tr>\n",
       "      <th>248</th>\n",
       "      <td>2020-04-30 08:00:00</td>\n",
       "      <td>52.360435</td>\n",
       "      <td>87.122609</td>\n",
       "      <td>46.247391</td>\n",
       "    </tr>\n",
       "    <tr>\n",
       "      <th>249</th>\n",
       "      <td>2020-04-30 09:00:00</td>\n",
       "      <td>46.247391</td>\n",
       "      <td>81.591304</td>\n",
       "      <td>43.043913</td>\n",
       "    </tr>\n",
       "    <tr>\n",
       "      <th>250</th>\n",
       "      <td>2020-04-30 10:00:00</td>\n",
       "      <td>43.043913</td>\n",
       "      <td>75.183478</td>\n",
       "      <td>40.766087</td>\n",
       "    </tr>\n",
       "    <tr>\n",
       "      <th>251</th>\n",
       "      <td>2020-04-30 11:00:00</td>\n",
       "      <td>40.766087</td>\n",
       "      <td>69.480435</td>\n",
       "      <td>37.980435</td>\n",
       "    </tr>\n",
       "    <tr>\n",
       "      <th>252</th>\n",
       "      <td>2020-04-30 12:00:00</td>\n",
       "      <td>37.980435</td>\n",
       "      <td>63.239565</td>\n",
       "      <td>35.386522</td>\n",
       "    </tr>\n",
       "    <tr>\n",
       "      <th>253</th>\n",
       "      <td>2020-04-30 13:00:00</td>\n",
       "      <td>35.386522</td>\n",
       "      <td>58.739565</td>\n",
       "      <td>36.052174</td>\n",
       "    </tr>\n",
       "    <tr>\n",
       "      <th>254</th>\n",
       "      <td>2020-04-30 14:00:00</td>\n",
       "      <td>36.052174</td>\n",
       "      <td>55.763913</td>\n",
       "      <td>37.265652</td>\n",
       "    </tr>\n",
       "    <tr>\n",
       "      <th>255</th>\n",
       "      <td>2020-04-30 15:00:00</td>\n",
       "      <td>37.265652</td>\n",
       "      <td>56.082174</td>\n",
       "      <td>39.158696</td>\n",
       "    </tr>\n",
       "    <tr>\n",
       "      <th>256</th>\n",
       "      <td>2020-04-30 16:00:00</td>\n",
       "      <td>39.158696</td>\n",
       "      <td>60.063043</td>\n",
       "      <td>37.452609</td>\n",
       "    </tr>\n",
       "    <tr>\n",
       "      <th>257</th>\n",
       "      <td>2020-04-30 17:00:00</td>\n",
       "      <td>37.452609</td>\n",
       "      <td>65.129130</td>\n",
       "      <td>37.653043</td>\n",
       "    </tr>\n",
       "    <tr>\n",
       "      <th>258</th>\n",
       "      <td>2020-04-30 18:00:00</td>\n",
       "      <td>37.653043</td>\n",
       "      <td>70.024783</td>\n",
       "      <td>41.697391</td>\n",
       "    </tr>\n",
       "    <tr>\n",
       "      <th>259</th>\n",
       "      <td>2020-04-30 19:00:00</td>\n",
       "      <td>41.697391</td>\n",
       "      <td>73.581739</td>\n",
       "      <td>48.421739</td>\n",
       "    </tr>\n",
       "    <tr>\n",
       "      <th>260</th>\n",
       "      <td>2020-04-30 20:00:00</td>\n",
       "      <td>48.421739</td>\n",
       "      <td>77.083478</td>\n",
       "      <td>51.913913</td>\n",
       "    </tr>\n",
       "    <tr>\n",
       "      <th>261</th>\n",
       "      <td>2020-04-30 21:00:00</td>\n",
       "      <td>51.913913</td>\n",
       "      <td>79.922609</td>\n",
       "      <td>55.002609</td>\n",
       "    </tr>\n",
       "    <tr>\n",
       "      <th>262</th>\n",
       "      <td>2020-04-30 22:00:00</td>\n",
       "      <td>55.002609</td>\n",
       "      <td>82.450000</td>\n",
       "      <td>54.606087</td>\n",
       "    </tr>\n",
       "  </tbody>\n",
       "</table>\n",
       "</div>"
      ],
      "text/plain": [
       "           datetime_from  avg(pm10)  avg(humidity)     actual\n",
       "248  2020-04-30 08:00:00  52.360435      87.122609  46.247391\n",
       "249  2020-04-30 09:00:00  46.247391      81.591304  43.043913\n",
       "250  2020-04-30 10:00:00  43.043913      75.183478  40.766087\n",
       "251  2020-04-30 11:00:00  40.766087      69.480435  37.980435\n",
       "252  2020-04-30 12:00:00  37.980435      63.239565  35.386522\n",
       "253  2020-04-30 13:00:00  35.386522      58.739565  36.052174\n",
       "254  2020-04-30 14:00:00  36.052174      55.763913  37.265652\n",
       "255  2020-04-30 15:00:00  37.265652      56.082174  39.158696\n",
       "256  2020-04-30 16:00:00  39.158696      60.063043  37.452609\n",
       "257  2020-04-30 17:00:00  37.452609      65.129130  37.653043\n",
       "258  2020-04-30 18:00:00  37.653043      70.024783  41.697391\n",
       "259  2020-04-30 19:00:00  41.697391      73.581739  48.421739\n",
       "260  2020-04-30 20:00:00  48.421739      77.083478  51.913913\n",
       "261  2020-04-30 21:00:00  51.913913      79.922609  55.002609\n",
       "262  2020-04-30 22:00:00  55.002609      82.450000  54.606087"
      ]
     },
     "execution_count": 7,
     "metadata": {},
     "output_type": "execute_result"
    }
   ],
   "source": [
    "dataset_for_prediction=dataset_for_prediction.dropna()\n",
    "dataset_for_prediction.tail(15)"
   ]
  },
  {
   "cell_type": "markdown",
   "metadata": {},
   "source": [
    "### Ustawiamy date jako index "
   ]
  },
  {
   "cell_type": "code",
   "execution_count": 8,
   "metadata": {},
   "outputs": [
    {
     "data": {
      "text/html": [
       "<div>\n",
       "<style scoped>\n",
       "    .dataframe tbody tr th:only-of-type {\n",
       "        vertical-align: middle;\n",
       "    }\n",
       "\n",
       "    .dataframe tbody tr th {\n",
       "        vertical-align: top;\n",
       "    }\n",
       "\n",
       "    .dataframe thead th {\n",
       "        text-align: right;\n",
       "    }\n",
       "</style>\n",
       "<table border=\"1\" class=\"dataframe\">\n",
       "  <thead>\n",
       "    <tr style=\"text-align: right;\">\n",
       "      <th></th>\n",
       "      <th>datetime_from</th>\n",
       "      <th>avg(pm10)</th>\n",
       "      <th>avg(humidity)</th>\n",
       "      <th>actual</th>\n",
       "    </tr>\n",
       "    <tr>\n",
       "      <th>datetime_from</th>\n",
       "      <th></th>\n",
       "      <th></th>\n",
       "      <th></th>\n",
       "      <th></th>\n",
       "    </tr>\n",
       "  </thead>\n",
       "  <tbody>\n",
       "    <tr>\n",
       "      <th>2020-04-20 00:00:00</th>\n",
       "      <td>2020-04-20 00:00:00</td>\n",
       "      <td>26.202500</td>\n",
       "      <td>68.859000</td>\n",
       "      <td>26.457000</td>\n",
       "    </tr>\n",
       "    <tr>\n",
       "      <th>2020-04-20 01:00:00</th>\n",
       "      <td>2020-04-20 01:00:00</td>\n",
       "      <td>26.457000</td>\n",
       "      <td>73.956000</td>\n",
       "      <td>26.813500</td>\n",
       "    </tr>\n",
       "    <tr>\n",
       "      <th>2020-04-20 02:00:00</th>\n",
       "      <td>2020-04-20 02:00:00</td>\n",
       "      <td>26.813500</td>\n",
       "      <td>77.606500</td>\n",
       "      <td>25.633000</td>\n",
       "    </tr>\n",
       "    <tr>\n",
       "      <th>2020-04-20 03:00:00</th>\n",
       "      <td>2020-04-20 03:00:00</td>\n",
       "      <td>25.633000</td>\n",
       "      <td>79.678500</td>\n",
       "      <td>28.324000</td>\n",
       "    </tr>\n",
       "    <tr>\n",
       "      <th>2020-04-20 04:00:00</th>\n",
       "      <td>2020-04-20 04:00:00</td>\n",
       "      <td>28.324000</td>\n",
       "      <td>79.994500</td>\n",
       "      <td>26.528000</td>\n",
       "    </tr>\n",
       "    <tr>\n",
       "      <th>...</th>\n",
       "      <td>...</td>\n",
       "      <td>...</td>\n",
       "      <td>...</td>\n",
       "      <td>...</td>\n",
       "    </tr>\n",
       "    <tr>\n",
       "      <th>2020-04-30 18:00:00</th>\n",
       "      <td>2020-04-30 18:00:00</td>\n",
       "      <td>37.653043</td>\n",
       "      <td>70.024783</td>\n",
       "      <td>41.697391</td>\n",
       "    </tr>\n",
       "    <tr>\n",
       "      <th>2020-04-30 19:00:00</th>\n",
       "      <td>2020-04-30 19:00:00</td>\n",
       "      <td>41.697391</td>\n",
       "      <td>73.581739</td>\n",
       "      <td>48.421739</td>\n",
       "    </tr>\n",
       "    <tr>\n",
       "      <th>2020-04-30 20:00:00</th>\n",
       "      <td>2020-04-30 20:00:00</td>\n",
       "      <td>48.421739</td>\n",
       "      <td>77.083478</td>\n",
       "      <td>51.913913</td>\n",
       "    </tr>\n",
       "    <tr>\n",
       "      <th>2020-04-30 21:00:00</th>\n",
       "      <td>2020-04-30 21:00:00</td>\n",
       "      <td>51.913913</td>\n",
       "      <td>79.922609</td>\n",
       "      <td>55.002609</td>\n",
       "    </tr>\n",
       "    <tr>\n",
       "      <th>2020-04-30 22:00:00</th>\n",
       "      <td>2020-04-30 22:00:00</td>\n",
       "      <td>55.002609</td>\n",
       "      <td>82.450000</td>\n",
       "      <td>54.606087</td>\n",
       "    </tr>\n",
       "  </tbody>\n",
       "</table>\n",
       "<p>263 rows × 4 columns</p>\n",
       "</div>"
      ],
      "text/plain": [
       "                          datetime_from  avg(pm10)  avg(humidity)     actual\n",
       "datetime_from                                                               \n",
       "2020-04-20 00:00:00 2020-04-20 00:00:00  26.202500      68.859000  26.457000\n",
       "2020-04-20 01:00:00 2020-04-20 01:00:00  26.457000      73.956000  26.813500\n",
       "2020-04-20 02:00:00 2020-04-20 02:00:00  26.813500      77.606500  25.633000\n",
       "2020-04-20 03:00:00 2020-04-20 03:00:00  25.633000      79.678500  28.324000\n",
       "2020-04-20 04:00:00 2020-04-20 04:00:00  28.324000      79.994500  26.528000\n",
       "...                                 ...        ...            ...        ...\n",
       "2020-04-30 18:00:00 2020-04-30 18:00:00  37.653043      70.024783  41.697391\n",
       "2020-04-30 19:00:00 2020-04-30 19:00:00  41.697391      73.581739  48.421739\n",
       "2020-04-30 20:00:00 2020-04-30 20:00:00  48.421739      77.083478  51.913913\n",
       "2020-04-30 21:00:00 2020-04-30 21:00:00  51.913913      79.922609  55.002609\n",
       "2020-04-30 22:00:00 2020-04-30 22:00:00  55.002609      82.450000  54.606087\n",
       "\n",
       "[263 rows x 4 columns]"
      ]
     },
     "execution_count": 8,
     "metadata": {},
     "output_type": "execute_result"
    }
   ],
   "source": [
    "dataset_for_prediction['datetime_from'] = pd.to_datetime(dataset_for_prediction['datetime_from'])\n",
    "dataset_for_prediction.index = dataset_for_prediction['datetime_from']\n",
    "dataset_for_prediction"
   ]
  },
  {
   "cell_type": "markdown",
   "metadata": {},
   "source": [
    "### Rysowanie wykresów na podstawie danych"
   ]
  },
  {
   "cell_type": "markdown",
   "metadata": {},
   "source": [
    "PM10"
   ]
  },
  {
   "cell_type": "code",
   "execution_count": 9,
   "metadata": {},
   "outputs": [
    {
     "data": {
      "image/png": "[encoded data removed]",
      "text/plain": [
       "<Figure size 1080x144 with 1 Axes>"
      ]
     },
     "metadata": {
      "needs_background": "light"
     },
     "output_type": "display_data"
    }
   ],
   "source": [
    "dataset_for_prediction['avg(pm10)'].plot(color='green', figsize=(15, 2))\n",
    "plt.legend(['avg(pm10)'])\n",
    "plt.title('PM10')\n",
    "plt.show()"
   ]
  },
  {
   "cell_type": "markdown",
   "metadata": {},
   "source": [
    "Humidity"
   ]
  },
  {
   "cell_type": "code",
   "execution_count": 10,
   "metadata": {},
   "outputs": [
    {
     "data": {
      "image/png": "[encoded data removed]",
      "text/plain": [
       "<Figure size 1080x144 with 1 Axes>"
      ]
     },
     "metadata": {
      "needs_background": "light"
     },
     "output_type": "display_data"
    }
   ],
   "source": [
    "dataset_for_prediction['avg(humidity)'].plot(color='blue', figsize=(15, 2))\n",
    "plt.legend(['avg(humidity)'])\n",
    "plt.title('Humidity')\n",
    "plt.show()"
   ]
  },
  {
   "cell_type": "markdown",
   "metadata": {},
   "source": [
    "### Normalizacja danych wejściowych oraz target features"
   ]
  },
  {
   "cell_type": "code",
   "execution_count": 11,
   "metadata": {},
   "outputs": [
    {
     "data": {
      "text/html": [
       "<div>\n",
       "<style scoped>\n",
       "    .dataframe tbody tr th:only-of-type {\n",
       "        vertical-align: middle;\n",
       "    }\n",
       "\n",
       "    .dataframe tbody tr th {\n",
       "        vertical-align: top;\n",
       "    }\n",
       "\n",
       "    .dataframe thead th {\n",
       "        text-align: right;\n",
       "    }\n",
       "</style>\n",
       "<table border=\"1\" class=\"dataframe\">\n",
       "  <thead>\n",
       "    <tr style=\"text-align: right;\">\n",
       "      <th></th>\n",
       "      <th>0</th>\n",
       "      <th>1</th>\n",
       "    </tr>\n",
       "  </thead>\n",
       "  <tbody>\n",
       "    <tr>\n",
       "      <th>0</th>\n",
       "      <td>0.297815</td>\n",
       "      <td>0.585343</td>\n",
       "    </tr>\n",
       "    <tr>\n",
       "      <th>1</th>\n",
       "      <td>0.301809</td>\n",
       "      <td>0.655661</td>\n",
       "    </tr>\n",
       "    <tr>\n",
       "      <th>2</th>\n",
       "      <td>0.307404</td>\n",
       "      <td>0.706022</td>\n",
       "    </tr>\n",
       "    <tr>\n",
       "      <th>3</th>\n",
       "      <td>0.288877</td>\n",
       "      <td>0.734607</td>\n",
       "    </tr>\n",
       "    <tr>\n",
       "      <th>4</th>\n",
       "      <td>0.331110</td>\n",
       "      <td>0.738967</td>\n",
       "    </tr>\n",
       "    <tr>\n",
       "      <th>...</th>\n",
       "      <td>...</td>\n",
       "      <td>...</td>\n",
       "    </tr>\n",
       "    <tr>\n",
       "      <th>258</th>\n",
       "      <td>0.477523</td>\n",
       "      <td>0.601426</td>\n",
       "    </tr>\n",
       "    <tr>\n",
       "      <th>259</th>\n",
       "      <td>0.540996</td>\n",
       "      <td>0.650498</td>\n",
       "    </tr>\n",
       "    <tr>\n",
       "      <th>260</th>\n",
       "      <td>0.646530</td>\n",
       "      <td>0.698807</td>\n",
       "    </tr>\n",
       "    <tr>\n",
       "      <th>261</th>\n",
       "      <td>0.701338</td>\n",
       "      <td>0.737975</td>\n",
       "    </tr>\n",
       "    <tr>\n",
       "      <th>262</th>\n",
       "      <td>0.749812</td>\n",
       "      <td>0.772843</td>\n",
       "    </tr>\n",
       "  </tbody>\n",
       "</table>\n",
       "<p>263 rows × 2 columns</p>\n",
       "</div>"
      ],
      "text/plain": [
       "            0         1\n",
       "0    0.297815  0.585343\n",
       "1    0.301809  0.655661\n",
       "2    0.307404  0.706022\n",
       "3    0.288877  0.734607\n",
       "4    0.331110  0.738967\n",
       "..        ...       ...\n",
       "258  0.477523  0.601426\n",
       "259  0.540996  0.650498\n",
       "260  0.646530  0.698807\n",
       "261  0.701338  0.737975\n",
       "262  0.749812  0.772843\n",
       "\n",
       "[263 rows x 2 columns]"
      ]
     },
     "execution_count": 11,
     "metadata": {},
     "output_type": "execute_result"
    }
   ],
   "source": [
    "sc_in = MinMaxScaler(feature_range=(0, 1))\n",
    "scaled_input = sc_in.fit_transform(dataset_for_prediction[['avg(pm10)', 'avg(humidity)']])\n",
    "scaled_input = pd.DataFrame(scaled_input)\n",
    "X = scaled_input\n",
    "X"
   ]
  },
  {
   "cell_type": "code",
   "execution_count": 12,
   "metadata": {},
   "outputs": [
    {
     "data": {
      "text/html": [
       "<div>\n",
       "<style scoped>\n",
       "    .dataframe tbody tr th:only-of-type {\n",
       "        vertical-align: middle;\n",
       "    }\n",
       "\n",
       "    .dataframe tbody tr th {\n",
       "        vertical-align: top;\n",
       "    }\n",
       "\n",
       "    .dataframe thead th {\n",
       "        text-align: right;\n",
       "    }\n",
       "</style>\n",
       "<table border=\"1\" class=\"dataframe\">\n",
       "  <thead>\n",
       "    <tr style=\"text-align: right;\">\n",
       "      <th></th>\n",
       "      <th>0</th>\n",
       "    </tr>\n",
       "  </thead>\n",
       "  <tbody>\n",
       "    <tr>\n",
       "      <th>0</th>\n",
       "      <td>0.301809</td>\n",
       "    </tr>\n",
       "    <tr>\n",
       "      <th>1</th>\n",
       "      <td>0.307404</td>\n",
       "    </tr>\n",
       "    <tr>\n",
       "      <th>2</th>\n",
       "      <td>0.288877</td>\n",
       "    </tr>\n",
       "    <tr>\n",
       "      <th>3</th>\n",
       "      <td>0.331110</td>\n",
       "    </tr>\n",
       "    <tr>\n",
       "      <th>4</th>\n",
       "      <td>0.302923</td>\n",
       "    </tr>\n",
       "    <tr>\n",
       "      <th>...</th>\n",
       "      <td>...</td>\n",
       "    </tr>\n",
       "    <tr>\n",
       "      <th>258</th>\n",
       "      <td>0.540996</td>\n",
       "    </tr>\n",
       "    <tr>\n",
       "      <th>259</th>\n",
       "      <td>0.646530</td>\n",
       "    </tr>\n",
       "    <tr>\n",
       "      <th>260</th>\n",
       "      <td>0.701338</td>\n",
       "    </tr>\n",
       "    <tr>\n",
       "      <th>261</th>\n",
       "      <td>0.749812</td>\n",
       "    </tr>\n",
       "    <tr>\n",
       "      <th>262</th>\n",
       "      <td>0.743589</td>\n",
       "    </tr>\n",
       "  </tbody>\n",
       "</table>\n",
       "<p>263 rows × 1 columns</p>\n",
       "</div>"
      ],
      "text/plain": [
       "            0\n",
       "0    0.301809\n",
       "1    0.307404\n",
       "2    0.288877\n",
       "3    0.331110\n",
       "4    0.302923\n",
       "..        ...\n",
       "258  0.540996\n",
       "259  0.646530\n",
       "260  0.701338\n",
       "261  0.749812\n",
       "262  0.743589\n",
       "\n",
       "[263 rows x 1 columns]"
      ]
     },
     "execution_count": 12,
     "metadata": {},
     "output_type": "execute_result"
    }
   ],
   "source": [
    "sc_out = MinMaxScaler(feature_range=(0, 1))\n",
    "scaler_output = sc_out.fit_transform(dataset_for_prediction[['actual']])\n",
    "scaler_output = pd.DataFrame(scaler_output)\n",
    "y = scaler_output\n",
    "y"
   ]
  },
  {
   "cell_type": "markdown",
   "metadata": {},
   "source": [
    "### Zmiana nazw kolumn dla danych wejściowych i targetów"
   ]
  },
  {
   "cell_type": "code",
   "execution_count": 13,
   "metadata": {},
   "outputs": [],
   "source": [
    "X.rename(columns={0: 'pm10', 1: 'humidity'}, inplace=True)\n",
    "y.rename(columns={0: 'pm10 prediction'}, inplace=True)\n",
    "y.index=dataset_for_prediction.index\n",
    "X.index=dataset_for_prediction.index"
   ]
  },
  {
   "cell_type": "code",
   "execution_count": 14,
   "metadata": {},
   "outputs": [
    {
     "data": {
      "text/html": [
       "<div>\n",
       "<style scoped>\n",
       "    .dataframe tbody tr th:only-of-type {\n",
       "        vertical-align: middle;\n",
       "    }\n",
       "\n",
       "    .dataframe tbody tr th {\n",
       "        vertical-align: top;\n",
       "    }\n",
       "\n",
       "    .dataframe thead th {\n",
       "        text-align: right;\n",
       "    }\n",
       "</style>\n",
       "<table border=\"1\" class=\"dataframe\">\n",
       "  <thead>\n",
       "    <tr style=\"text-align: right;\">\n",
       "      <th></th>\n",
       "      <th>pm10</th>\n",
       "      <th>humidity</th>\n",
       "    </tr>\n",
       "    <tr>\n",
       "      <th>datetime_from</th>\n",
       "      <th></th>\n",
       "      <th></th>\n",
       "    </tr>\n",
       "  </thead>\n",
       "  <tbody>\n",
       "    <tr>\n",
       "      <th>2020-04-20 00:00:00</th>\n",
       "      <td>0.297815</td>\n",
       "      <td>0.585343</td>\n",
       "    </tr>\n",
       "    <tr>\n",
       "      <th>2020-04-20 01:00:00</th>\n",
       "      <td>0.301809</td>\n",
       "      <td>0.655661</td>\n",
       "    </tr>\n",
       "    <tr>\n",
       "      <th>2020-04-20 02:00:00</th>\n",
       "      <td>0.307404</td>\n",
       "      <td>0.706022</td>\n",
       "    </tr>\n",
       "    <tr>\n",
       "      <th>2020-04-20 03:00:00</th>\n",
       "      <td>0.288877</td>\n",
       "      <td>0.734607</td>\n",
       "    </tr>\n",
       "    <tr>\n",
       "      <th>2020-04-20 04:00:00</th>\n",
       "      <td>0.331110</td>\n",
       "      <td>0.738967</td>\n",
       "    </tr>\n",
       "    <tr>\n",
       "      <th>...</th>\n",
       "      <td>...</td>\n",
       "      <td>...</td>\n",
       "    </tr>\n",
       "    <tr>\n",
       "      <th>2020-04-30 18:00:00</th>\n",
       "      <td>0.477523</td>\n",
       "      <td>0.601426</td>\n",
       "    </tr>\n",
       "    <tr>\n",
       "      <th>2020-04-30 19:00:00</th>\n",
       "      <td>0.540996</td>\n",
       "      <td>0.650498</td>\n",
       "    </tr>\n",
       "    <tr>\n",
       "      <th>2020-04-30 20:00:00</th>\n",
       "      <td>0.646530</td>\n",
       "      <td>0.698807</td>\n",
       "    </tr>\n",
       "    <tr>\n",
       "      <th>2020-04-30 21:00:00</th>\n",
       "      <td>0.701338</td>\n",
       "      <td>0.737975</td>\n",
       "    </tr>\n",
       "    <tr>\n",
       "      <th>2020-04-30 22:00:00</th>\n",
       "      <td>0.749812</td>\n",
       "      <td>0.772843</td>\n",
       "    </tr>\n",
       "  </tbody>\n",
       "</table>\n",
       "<p>263 rows × 2 columns</p>\n",
       "</div>"
      ],
      "text/plain": [
       "                         pm10  humidity\n",
       "datetime_from                          \n",
       "2020-04-20 00:00:00  0.297815  0.585343\n",
       "2020-04-20 01:00:00  0.301809  0.655661\n",
       "2020-04-20 02:00:00  0.307404  0.706022\n",
       "2020-04-20 03:00:00  0.288877  0.734607\n",
       "2020-04-20 04:00:00  0.331110  0.738967\n",
       "...                       ...       ...\n",
       "2020-04-30 18:00:00  0.477523  0.601426\n",
       "2020-04-30 19:00:00  0.540996  0.650498\n",
       "2020-04-30 20:00:00  0.646530  0.698807\n",
       "2020-04-30 21:00:00  0.701338  0.737975\n",
       "2020-04-30 22:00:00  0.749812  0.772843\n",
       "\n",
       "[263 rows x 2 columns]"
      ]
     },
     "execution_count": 14,
     "metadata": {},
     "output_type": "execute_result"
    }
   ],
   "source": [
    "X"
   ]
  },
  {
   "cell_type": "code",
   "execution_count": 15,
   "metadata": {},
   "outputs": [
    {
     "data": {
      "text/html": [
       "<div>\n",
       "<style scoped>\n",
       "    .dataframe tbody tr th:only-of-type {\n",
       "        vertical-align: middle;\n",
       "    }\n",
       "\n",
       "    .dataframe tbody tr th {\n",
       "        vertical-align: top;\n",
       "    }\n",
       "\n",
       "    .dataframe thead th {\n",
       "        text-align: right;\n",
       "    }\n",
       "</style>\n",
       "<table border=\"1\" class=\"dataframe\">\n",
       "  <thead>\n",
       "    <tr style=\"text-align: right;\">\n",
       "      <th></th>\n",
       "      <th>pm10 prediction</th>\n",
       "    </tr>\n",
       "    <tr>\n",
       "      <th>datetime_from</th>\n",
       "      <th></th>\n",
       "    </tr>\n",
       "  </thead>\n",
       "  <tbody>\n",
       "    <tr>\n",
       "      <th>2020-04-20 00:00:00</th>\n",
       "      <td>0.301809</td>\n",
       "    </tr>\n",
       "    <tr>\n",
       "      <th>2020-04-20 01:00:00</th>\n",
       "      <td>0.307404</td>\n",
       "    </tr>\n",
       "    <tr>\n",
       "      <th>2020-04-20 02:00:00</th>\n",
       "      <td>0.288877</td>\n",
       "    </tr>\n",
       "    <tr>\n",
       "      <th>2020-04-20 03:00:00</th>\n",
       "      <td>0.331110</td>\n",
       "    </tr>\n",
       "    <tr>\n",
       "      <th>2020-04-20 04:00:00</th>\n",
       "      <td>0.302923</td>\n",
       "    </tr>\n",
       "    <tr>\n",
       "      <th>...</th>\n",
       "      <td>...</td>\n",
       "    </tr>\n",
       "    <tr>\n",
       "      <th>2020-04-30 18:00:00</th>\n",
       "      <td>0.540996</td>\n",
       "    </tr>\n",
       "    <tr>\n",
       "      <th>2020-04-30 19:00:00</th>\n",
       "      <td>0.646530</td>\n",
       "    </tr>\n",
       "    <tr>\n",
       "      <th>2020-04-30 20:00:00</th>\n",
       "      <td>0.701338</td>\n",
       "    </tr>\n",
       "    <tr>\n",
       "      <th>2020-04-30 21:00:00</th>\n",
       "      <td>0.749812</td>\n",
       "    </tr>\n",
       "    <tr>\n",
       "      <th>2020-04-30 22:00:00</th>\n",
       "      <td>0.743589</td>\n",
       "    </tr>\n",
       "  </tbody>\n",
       "</table>\n",
       "<p>263 rows × 1 columns</p>\n",
       "</div>"
      ],
      "text/plain": [
       "                     pm10 prediction\n",
       "datetime_from                       \n",
       "2020-04-20 00:00:00         0.301809\n",
       "2020-04-20 01:00:00         0.307404\n",
       "2020-04-20 02:00:00         0.288877\n",
       "2020-04-20 03:00:00         0.331110\n",
       "2020-04-20 04:00:00         0.302923\n",
       "...                              ...\n",
       "2020-04-30 18:00:00         0.540996\n",
       "2020-04-30 19:00:00         0.646530\n",
       "2020-04-30 20:00:00         0.701338\n",
       "2020-04-30 21:00:00         0.749812\n",
       "2020-04-30 22:00:00         0.743589\n",
       "\n",
       "[263 rows x 1 columns]"
      ]
     },
     "execution_count": 15,
     "metadata": {},
     "output_type": "execute_result"
    }
   ],
   "source": [
    "y"
   ]
  },
  {
   "cell_type": "markdown",
   "metadata": {},
   "source": [
    "### Podział datasetu na dane treningowe i testowe"
   ]
  },
  {
   "cell_type": "code",
   "execution_count": 16,
   "metadata": {},
   "outputs": [],
   "source": [
    "train_size = int(len(dataset) * 0.90)\n",
    "test_size = int(len(dataset)) - train_size\n",
    "\n",
    "train_X, train_y = X[:train_size].dropna(), y[:train_size].dropna()\n",
    "test_X, test_y = X[train_size:].dropna(), y[train_size:].dropna()"
   ]
  },
  {
   "cell_type": "markdown",
   "metadata": {},
   "source": [
    "### Dekompoyzcja szeregu czasowego na trend, sezonowość/cykliczność, szum"
   ]
  },
  {
   "cell_type": "code",
   "execution_count": 17,
   "metadata": {},
   "outputs": [
    {
     "data": {
      "image/png": "[encoded data removed]",
      "text/plain": [
       "<Figure size 1152x720 with 4 Axes>"
      ]
     },
     "metadata": {
      "needs_background": "light"
     },
     "output_type": "display_data"
    }
   ],
   "source": [
    "seas_d=sm.tsa.seasonal_decompose(X['pm10'],model='add',period=24);\n",
    "fig=seas_d.plot()\n",
    "fig.set_figheight(10)\n",
    "fig.set_figwidth(16)\n",
    "plt.show()"
   ]
  },
  {
   "cell_type": "markdown",
   "metadata": {},
   "source": [
    "Additive model = Trend + Seasonality + Random Noise"
   ]
  },
  {
   "cell_type": "markdown",
   "metadata": {},
   "source": [
    "### Sprawdzamy stacjonarość danych poprzez Augmented Dickey Fuller(ADF) test"
   ]
  },
  {
   "cell_type": "markdown",
   "metadata": {},
   "source": [
    "Jeśli sprawimy że dane będą stacjonare to model będzie wykonywał przewidywania na podstawie tego że średnia oraz wariancją będą takie są przez przyszłe okresy."
   ]
  },
  {
   "cell_type": "code",
   "execution_count": 18,
   "metadata": {},
   "outputs": [],
   "source": [
    "def test_adf(series, title=''):\n",
    "    dfout={}\n",
    "    dftest=sm.tsa.adfuller(series.dropna(), autolag='AIC', regression='ct')\n",
    "    for key,val in dftest[4].items():\n",
    "        dfout[f'critical value ({key})']=val\n",
    "    if dftest[1]<=0.05:\n",
    "        print(\"Strong evidence against Null Hypothesis\")\n",
    "        print(\"Reject Null Hypothesis - Data is Stationary\")\n",
    "        print(\"Data is Stationary\", title)\n",
    "    else:\n",
    "        print(\"Strong evidence for  Null Hypothesis\")\n",
    "        print(\"Accept Null Hypothesis - Data is not Stationary\")\n",
    "        print(\"Data is NOT Stationary for\", title)"
   ]
  },
  {
   "cell_type": "code",
   "execution_count": 19,
   "metadata": {},
   "outputs": [
    {
     "name": "stdout",
     "output_type": "stream",
     "text": [
      "Strong evidence against Null Hypothesis\n",
      "Reject Null Hypothesis - Data is Stationary\n",
      "Data is Stationary pm10\n"
     ]
    }
   ],
   "source": [
    "y_test=y['pm10 prediction'][:train_size].dropna()\n",
    "test_adf(y_test, 'pm10')"
   ]
  },
  {
   "cell_type": "markdown",
   "metadata": {},
   "source": [
    "### Dane stacjonarne - różnicowanie"
   ]
  },
  {
   "cell_type": "code",
   "execution_count": 20,
   "metadata": {},
   "outputs": [
    {
     "name": "stdout",
     "output_type": "stream",
     "text": [
      "Strong evidence against Null Hypothesis\n",
      "Reject Null Hypothesis - Data is Stationary\n",
      "Data is Stationary pm10\n"
     ]
    }
   ],
   "source": [
    "test_adf(y_test.diff(), 'pm10')"
   ]
  },
  {
   "cell_type": "markdown",
   "metadata": {},
   "source": [
    "### Budowanie modelu\n",
    "\n",
    "ACF plot: wykres słupkowy współczynników korelacji między szeregiem czasowym a jego własnym opóźnieniem\n",
    "\n",
    "PACF plot: wykres słupkowy współczynników częściowej korelacji między szeregiem czasowym a jego własnym opóźnieniem"
   ]
  },
  {
   "cell_type": "code",
   "execution_count": 21,
   "metadata": {},
   "outputs": [
    {
     "data": {
      "image/png": "[encoded data removed]",
      "text/plain": [
       "<Figure size 720x360 with 2 Axes>"
      ]
     },
     "metadata": {
      "needs_background": "light"
     },
     "output_type": "display_data"
    }
   ],
   "source": [
    "fig,ax= plt.subplots(2,1, figsize=(10,5))\n",
    "fig=sm.tsa.graphics.plot_acf(y_test, lags=50, ax=ax[0])\n",
    "fig=sm.tsa.graphics.plot_pacf(y_test, lags=50, ax=ax[1])\n",
    "plt.show()"
   ]
  },
  {
   "cell_type": "markdown",
   "metadata": {},
   "source": [
    "### Funkcja auto_arima która dobiera najlepsze parametry modelu ARIMA do szeregu czasowego.\n",
    "\n",
    "Losowo wybiera i sprawdza kolejne paraemtry dobierając w ten sposób te najlepsze. Próbuje zminimalizować partykę AIC (Akaike Information Criterion) - dobiera parametry dla ktorych jest najmniejsza."
   ]
  },
  {
   "cell_type": "code",
   "execution_count": 22,
   "metadata": {},
   "outputs": [
    {
     "name": "stdout",
     "output_type": "stream",
     "text": [
      "Performing stepwise search to minimize aic\n",
      "Fit ARIMA(1,1,1)x(0,0,0,0) [intercept=True]; AIC=-524.342, BIC=-503.559, Time=0.268 seconds\n",
      "Fit ARIMA(0,1,0)x(0,0,0,0) [intercept=True]; AIC=-514.343, BIC=-500.487, Time=0.046 seconds\n",
      "Fit ARIMA(1,1,0)x(0,0,0,0) [intercept=True]; AIC=-519.701, BIC=-502.382, Time=0.110 seconds\n",
      "Fit ARIMA(0,1,1)x(0,0,0,0) [intercept=True]; AIC=-526.173, BIC=-508.854, Time=0.136 seconds\n",
      "Fit ARIMA(0,1,0)x(0,0,0,0) [intercept=False]; AIC=-516.333, BIC=-505.942, Time=0.059 seconds\n",
      "Fit ARIMA(0,1,2)x(0,0,0,0) [intercept=True]; AIC=-524.404, BIC=-503.621, Time=0.221 seconds\n",
      "Fit ARIMA(1,1,2)x(0,0,0,0) [intercept=True]; AIC=-526.000, BIC=-501.753, Time=0.329 seconds\n",
      "Total fit time: 1.174 seconds\n"
     ]
    }
   ],
   "source": [
    "step_wise=auto_arima(train_y, \n",
    " exogenous= train_X,\n",
    " start_p=1, start_q=1, \n",
    " max_p=7, max_q=7, \n",
    " d=1, max_d=7,\n",
    " trace=True, \n",
    " error_action='ignore', \n",
    " suppress_warnings=True, \n",
    " stepwise=True)"
   ]
  },
  {
   "cell_type": "code",
   "execution_count": 23,
   "metadata": {},
   "outputs": [
    {
     "data": {
      "text/html": [
       "<table class=\"simpletable\">\n",
       "<caption>SARIMAX Results</caption>\n",
       "<tr>\n",
       "  <th>Dep. Variable:</th>           <td>y</td>        <th>  No. Observations:  </th>    <td>237</td>  \n",
       "</tr>\n",
       "<tr>\n",
       "  <th>Model:</th>           <td>SARIMAX(0, 1, 1)</td> <th>  Log Likelihood     </th>  <td>268.087</td>\n",
       "</tr>\n",
       "<tr>\n",
       "  <th>Date:</th>            <td>Mon, 04 May 2020</td> <th>  AIC                </th> <td>-526.173</td>\n",
       "</tr>\n",
       "<tr>\n",
       "  <th>Time:</th>                <td>11:00:12</td>     <th>  BIC                </th> <td>-508.854</td>\n",
       "</tr>\n",
       "<tr>\n",
       "  <th>Sample:</th>             <td>04-20-2020</td>    <th>  HQIC               </th> <td>-519.192</td>\n",
       "</tr>\n",
       "<tr>\n",
       "  <th></th>                   <td>- 04-29-2020</td>   <th>                     </th>     <td> </td>   \n",
       "</tr>\n",
       "<tr>\n",
       "  <th>Covariance Type:</th>        <td>opg</td>       <th>                     </th>     <td> </td>   \n",
       "</tr>\n",
       "</table>\n",
       "<table class=\"simpletable\">\n",
       "<tr>\n",
       "      <td></td>         <th>coef</th>     <th>std err</th>      <th>z</th>      <th>P>|z|</th>  <th>[0.025</th>    <th>0.975]</th>  \n",
       "</tr>\n",
       "<tr>\n",
       "  <th>intercept</th> <td>    0.0007</td> <td>    0.008</td> <td>    0.089</td> <td> 0.929</td> <td>   -0.014</td> <td>    0.016</td>\n",
       "</tr>\n",
       "<tr>\n",
       "  <th>pm10</th>      <td>   -0.0466</td> <td>    0.141</td> <td>   -0.330</td> <td> 0.742</td> <td>   -0.324</td> <td>    0.230</td>\n",
       "</tr>\n",
       "<tr>\n",
       "  <th>humidity</th>  <td>    0.8924</td> <td>    0.168</td> <td>    5.297</td> <td> 0.000</td> <td>    0.562</td> <td>    1.223</td>\n",
       "</tr>\n",
       "<tr>\n",
       "  <th>ma.L1</th>     <td>    0.4357</td> <td>    0.147</td> <td>    2.960</td> <td> 0.003</td> <td>    0.147</td> <td>    0.724</td>\n",
       "</tr>\n",
       "<tr>\n",
       "  <th>sigma2</th>    <td>    0.0060</td> <td>    0.000</td> <td>   18.651</td> <td> 0.000</td> <td>    0.005</td> <td>    0.007</td>\n",
       "</tr>\n",
       "</table>\n",
       "<table class=\"simpletable\">\n",
       "<tr>\n",
       "  <th>Ljung-Box (Q):</th>          <td>74.42</td> <th>  Jarque-Bera (JB):  </th> <td>313.91</td>\n",
       "</tr>\n",
       "<tr>\n",
       "  <th>Prob(Q):</th>                <td>0.00</td>  <th>  Prob(JB):          </th>  <td>0.00</td> \n",
       "</tr>\n",
       "<tr>\n",
       "  <th>Heteroskedasticity (H):</th> <td>1.87</td>  <th>  Skew:              </th>  <td>-0.08</td>\n",
       "</tr>\n",
       "<tr>\n",
       "  <th>Prob(H) (two-sided):</th>    <td>0.01</td>  <th>  Kurtosis:          </th>  <td>8.65</td> \n",
       "</tr>\n",
       "</table><br/><br/>Warnings:<br/>[1] Covariance matrix calculated using the outer product of gradients (complex-step)."
      ],
      "text/plain": [
       "<class 'statsmodels.iolib.summary.Summary'>\n",
       "\"\"\"\n",
       "                               SARIMAX Results                                \n",
       "==============================================================================\n",
       "Dep. Variable:                      y   No. Observations:                  237\n",
       "Model:               SARIMAX(0, 1, 1)   Log Likelihood                 268.087\n",
       "Date:                Mon, 04 May 2020   AIC                           -526.173\n",
       "Time:                        11:00:12   BIC                           -508.854\n",
       "Sample:                    04-20-2020   HQIC                          -519.192\n",
       "                         - 04-29-2020                                         \n",
       "Covariance Type:                  opg                                         \n",
       "==============================================================================\n",
       "                 coef    std err          z      P>|z|      [0.025      0.975]\n",
       "------------------------------------------------------------------------------\n",
       "intercept      0.0007      0.008      0.089      0.929      -0.014       0.016\n",
       "pm10          -0.0466      0.141     -0.330      0.742      -0.324       0.230\n",
       "humidity       0.8924      0.168      5.297      0.000       0.562       1.223\n",
       "ma.L1          0.4357      0.147      2.960      0.003       0.147       0.724\n",
       "sigma2         0.0060      0.000     18.651      0.000       0.005       0.007\n",
       "===================================================================================\n",
       "Ljung-Box (Q):                       74.42   Jarque-Bera (JB):               313.91\n",
       "Prob(Q):                              0.00   Prob(JB):                         0.00\n",
       "Heteroskedasticity (H):               1.87   Skew:                            -0.08\n",
       "Prob(H) (two-sided):                  0.01   Kurtosis:                         8.65\n",
       "===================================================================================\n",
       "\n",
       "Warnings:\n",
       "[1] Covariance matrix calculated using the outer product of gradients (complex-step).\n",
       "\"\"\""
      ]
     },
     "execution_count": 23,
     "metadata": {},
     "output_type": "execute_result"
    }
   ],
   "source": [
    "step_wise.summary()"
   ]
  },
  {
   "cell_type": "markdown",
   "metadata": {},
   "source": [
    "Zasugerowany został SARIMAX oraz wartości dla p,d,q wynoszące odpowiednio 0,1,1."
   ]
  },
  {
   "cell_type": "markdown",
   "metadata": {},
   "source": [
    "### Trenowanie modelu"
   ]
  },
  {
   "cell_type": "code",
   "execution_count": 24,
   "metadata": {
    "scrolled": true
   },
   "outputs": [
    {
     "name": "stderr",
     "output_type": "stream",
     "text": [
      "/usr/local/lib/python3.7/site-packages/statsmodels/tsa/base/tsa_model.py:162: ValueWarning: No frequency information was provided, so inferred frequency H will be used.\n",
      "  % freq, ValueWarning)\n",
      "/usr/local/lib/python3.7/site-packages/statsmodels/tsa/base/tsa_model.py:162: ValueWarning: No frequency information was provided, so inferred frequency H will be used.\n",
      "  % freq, ValueWarning)\n"
     ]
    }
   ],
   "source": [
    "model = SARIMAX(train_y, exog=train_X, order=(0,1,1), enforce_invertibility=False, enforce_stationarity=False)"
   ]
  },
  {
   "cell_type": "code",
   "execution_count": 25,
   "metadata": {},
   "outputs": [],
   "source": [
    "results = model.fit()"
   ]
  },
  {
   "cell_type": "markdown",
   "metadata": {},
   "source": [
    "### Predykcja"
   ]
  },
  {
   "cell_type": "markdown",
   "metadata": {},
   "source": [
    "predict()\n",
    "\n",
    "podajemy koniec oraz początek wraz ze zmienną exog, na podstawie której dokonana zostanie predykcja"
   ]
  },
  {
   "cell_type": "code",
   "execution_count": 26,
   "metadata": {},
   "outputs": [],
   "source": [
    "predictions= results.predict(start=train_size, end=train_size+test_size+(steps)-1,exog=test_X)"
   ]
  },
  {
   "cell_type": "markdown",
   "metadata": {},
   "source": [
    "### Stworzenie wykresu dla uzyskanej predykcji "
   ]
  },
  {
   "cell_type": "code",
   "execution_count": 27,
   "metadata": {},
   "outputs": [],
   "source": [
    "act= pd.DataFrame(scaler_output.iloc[train_size:, 0])"
   ]
  },
  {
   "cell_type": "code",
   "execution_count": 28,
   "metadata": {},
   "outputs": [],
   "source": [
    "predictions=pd.DataFrame(predictions)\n",
    "predictions.reset_index(drop=True, inplace=True)\n",
    "predictions.index=test_X.index\n",
    "predictions['actual'] = act['pm10 prediction']\n",
    "predictions.rename(columns={0:'Pred'}, inplace=True)"
   ]
  },
  {
   "cell_type": "code",
   "execution_count": 29,
   "metadata": {},
   "outputs": [
    {
     "data": {
      "text/plain": [
       "<matplotlib.axes._subplots.AxesSubplot at 0x12aebaf10>"
      ]
     },
     "execution_count": 29,
     "metadata": {},
     "output_type": "execute_result"
    },
    {
     "data": {
      "image/png": "[encoded data removed]",
      "text/plain": [
       "<Figure size 1440x576 with 1 Axes>"
      ]
     },
     "metadata": {
      "needs_background": "light"
     },
     "output_type": "display_data"
    }
   ],
   "source": [
    "predictions['actual'].plot(figsize=(20,8), legend=True, color='blue')\n",
    "predictions['Pred'].plot(legend=True, color='red', figsize=(20,8))"
   ]
  },
  {
   "cell_type": "markdown",
   "metadata": {},
   "source": [
    "### Ewaluacja błędu"
   ]
  },
  {
   "cell_type": "code",
   "execution_count": 30,
   "metadata": {},
   "outputs": [
    {
     "data": {
      "text/plain": [
       "0.11519513584109184"
      ]
     },
     "execution_count": 30,
     "metadata": {},
     "output_type": "execute_result"
    }
   ],
   "source": [
    "from statsmodels.tools.eval_measures import rmse\n",
    "error=rmse(predictions['Pred'], predictions['actual'])\n",
    "error"
   ]
  },
  {
   "cell_type": "markdown",
   "metadata": {},
   "source": [
    "### Skalowanie do oryginalnych wartości"
   ]
  },
  {
   "cell_type": "code",
   "execution_count": 31,
   "metadata": {},
   "outputs": [],
   "source": [
    "trainPredict = sc_out.inverse_transform(predictions[['Pred']])\n",
    "testPredict = sc_out.inverse_transform(predictions[['actual']])"
   ]
  },
  {
   "cell_type": "code",
   "execution_count": null,
   "metadata": {},
   "outputs": [],
   "source": []
  }
 ],
 "metadata": {
  "kernelspec": {
   "display_name": "Python 3",
   "language": "python",
   "name": "python3"
  },
  "language_info": {
   "codemirror_mode": {
    "name": "ipython",
    "version": 3
   },
   "file_extension": ".py",
   "mimetype": "text/x-python",
   "name": "python",
   "nbconvert_exporter": "python",
   "pygments_lexer": "ipython3",
   "version": "3.7.5"
  }
 },
 "nbformat": 4,
 "nbformat_minor": 2
}
